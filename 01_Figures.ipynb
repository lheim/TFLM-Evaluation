{
 "cells": [
  {
   "cell_type": "markdown",
   "metadata": {},
   "source": [
    "# 01_Figures\n",
    "\n",
    "This repository contains the code for regenerating all the plots/figures of the paper."
   ]
  },
  {
   "cell_type": "code",
   "execution_count": 1,
   "metadata": {},
   "outputs": [],
   "source": [
    "%run '00_Init.ipynb'"
   ]
  },
  {
   "cell_type": "markdown",
   "metadata": {},
   "source": [
    "---"
   ]
  },
  {
   "cell_type": "markdown",
   "metadata": {},
   "source": [
    "# Figure 2: Inference Latency\n"
   ]
  },
  {
   "cell_type": "markdown",
   "metadata": {},
   "source": [
    "### Load the data"
   ]
  },
  {
   "cell_type": "code",
   "execution_count": 2,
   "metadata": {},
   "outputs": [],
   "source": [
    "model = 'LeNet-MNIST'\n",
    "l4_df = pd.read_pickle('data/NUCLEO_L496ZG_LeNet-MNIST_benchmarking+verification_results_2020-07-24.pkl').sort_values(by=['model_type'])\n",
    "f4_df = pd.read_pickle('data/DISCO_F469NI_LeNet-MNIST_benchmarking+verification_results_2020-07-18.pkl').sort_values(by=['model_type'])\n",
    "f7_df = pd.read_pickle('data/NUCLEO_F767ZI_LeNet-MNIST_benchmarking+verification_results_2020-07-22.pkl').sort_values(by=['model_type'])\n",
    "\n",
    "lenet_df = {\"L4\": l4_df, \"F4\": f4_df, \"F7\": f7_df}\n",
    "\n",
    "model = '01d_ResNet20_CIFAR-10'\n",
    "l4_df = pd.read_pickle('data/NUCLEO_L496ZG_01d_ResNet20_CIFAR-10_benchmarking_results_2020-07-20.pkl').sort_values(by=['model_type'])\n",
    "f4_df = pd.read_pickle('data/DISCO_F469NI_01d_ResNet20_CIFAR-10_benchmarking_results_2020-07-19.pkl').sort_values(by=['model_type'])\n",
    "f7_df = pd.read_pickle('data/NUCLEO_F767ZI_01d_ResNet20_CIFAR-10_benchmarking_results_2020-07-22.pkl').sort_values(by=['model_type'])\n",
    "\n",
    "resnet_df = {\"L4\": l4_df, \"F4\": f4_df, \"F7\": f7_df}\n",
    "\n",
    "super_df = pd.DataFrame()\n",
    "for mcu in resnet_df:\n",
    "    super_df= super_df.append(resnet_df[mcu])\n",
    "    super_df= super_df.append(lenet_df[mcu])\n",
    "super_df['tflu_mcu_benchmark_mean'] = super_df['tflu_mcu_benchmark_mean'].fillna(super_df['tflu_mcu_benchmark_mean_50'])"
   ]
  },
  {
   "cell_type": "code",
   "execution_count": 3,
   "metadata": {},
   "outputs": [
    {
     "data": {
      "application/vnd.jupyter.widget-view+json": {
       "model_id": "3f12c1d5ceb24c37b7d9ada635089b3c",
       "version_major": 2,
       "version_minor": 0
      },
      "text/plain": [
       "Canvas(toolbar=Toolbar(toolitems=[('Home', 'Reset original view', 'home', 'home'), ('Back', 'Back to previous …"
      ]
     },
     "metadata": {},
     "output_type": "display_data"
    },
    {
     "data": {
      "text/html": [
       "<div>\n",
       "<style scoped>\n",
       "    .dataframe tbody tr th:only-of-type {\n",
       "        vertical-align: middle;\n",
       "    }\n",
       "\n",
       "    .dataframe tbody tr th {\n",
       "        vertical-align: top;\n",
       "    }\n",
       "\n",
       "    .dataframe thead th {\n",
       "        text-align: right;\n",
       "    }\n",
       "</style>\n",
       "<table border=\"1\" class=\"dataframe\">\n",
       "  <thead>\n",
       "    <tr style=\"text-align: right;\">\n",
       "      <th></th>\n",
       "      <th>combined_type</th>\n",
       "      <th>tflu_mcu_benchmark_mean</th>\n",
       "    </tr>\n",
       "  </thead>\n",
       "  <tbody>\n",
       "    <tr>\n",
       "      <th>2</th>\n",
       "      <td>W-float32_A-float32_none_0</td>\n",
       "      <td>405.6451660</td>\n",
       "    </tr>\n",
       "    <tr>\n",
       "      <th>0</th>\n",
       "      <td>W-float32_A-float32_none_1</td>\n",
       "      <td>112.1962348</td>\n",
       "    </tr>\n",
       "    <tr>\n",
       "      <th>4</th>\n",
       "      <td>W-int8_A-int8_none_1</td>\n",
       "      <td>120.6695127</td>\n",
       "    </tr>\n",
       "    <tr>\n",
       "      <th>5</th>\n",
       "      <td>W-int8_A-int8_cmsis-nn_1</td>\n",
       "      <td>36.3913420</td>\n",
       "    </tr>\n",
       "  </tbody>\n",
       "</table>\n",
       "</div>"
      ],
      "text/plain": [
       "                combined_type  tflu_mcu_benchmark_mean\n",
       "2  W-float32_A-float32_none_0              405.6451660\n",
       "0  W-float32_A-float32_none_1              112.1962348\n",
       "4        W-int8_A-int8_none_1              120.6695127\n",
       "5    W-int8_A-int8_cmsis-nn_1               36.3913420"
      ]
     },
     "metadata": {},
     "output_type": "display_data"
    },
    {
     "name": "stdout",
     "output_type": "stream",
     "text": [
      "figures/fig2_L4_LeNet-MNIST_-Ofast_\n"
     ]
    },
    {
     "data": {
      "application/vnd.jupyter.widget-view+json": {
       "model_id": "f84e5c9cab7e48af855f1ce1a16e155e",
       "version_major": 2,
       "version_minor": 0
      },
      "text/plain": [
       "Canvas(toolbar=Toolbar(toolitems=[('Home', 'Reset original view', 'home', 'home'), ('Back', 'Back to previous …"
      ]
     },
     "metadata": {},
     "output_type": "display_data"
    },
    {
     "data": {
      "text/html": [
       "<div>\n",
       "<style scoped>\n",
       "    .dataframe tbody tr th:only-of-type {\n",
       "        vertical-align: middle;\n",
       "    }\n",
       "\n",
       "    .dataframe tbody tr th {\n",
       "        vertical-align: top;\n",
       "    }\n",
       "\n",
       "    .dataframe thead th {\n",
       "        text-align: right;\n",
       "    }\n",
       "</style>\n",
       "<table border=\"1\" class=\"dataframe\">\n",
       "  <thead>\n",
       "    <tr style=\"text-align: right;\">\n",
       "      <th></th>\n",
       "      <th>combined_type</th>\n",
       "      <th>tflu_mcu_benchmark_mean</th>\n",
       "    </tr>\n",
       "  </thead>\n",
       "  <tbody>\n",
       "    <tr>\n",
       "      <th>0</th>\n",
       "      <td>W-float32_A-float32_none_0</td>\n",
       "      <td>190.1940494</td>\n",
       "    </tr>\n",
       "    <tr>\n",
       "      <th>4</th>\n",
       "      <td>W-int8_A-int8_none_0</td>\n",
       "      <td>65.3959346</td>\n",
       "    </tr>\n",
       "    <tr>\n",
       "      <th>5</th>\n",
       "      <td>W-int8_A-int8_cmsis-nn_0</td>\n",
       "      <td>16.4595706</td>\n",
       "    </tr>\n",
       "    <tr>\n",
       "      <th>2</th>\n",
       "      <td>W-float32_A-float32_none_1</td>\n",
       "      <td>58.5430699</td>\n",
       "    </tr>\n",
       "  </tbody>\n",
       "</table>\n",
       "</div>"
      ],
      "text/plain": [
       "                combined_type  tflu_mcu_benchmark_mean\n",
       "0  W-float32_A-float32_none_0              190.1940494\n",
       "4        W-int8_A-int8_none_0               65.3959346\n",
       "5    W-int8_A-int8_cmsis-nn_0               16.4595706\n",
       "2  W-float32_A-float32_none_1               58.5430699"
      ]
     },
     "metadata": {},
     "output_type": "display_data"
    },
    {
     "name": "stdout",
     "output_type": "stream",
     "text": [
      "figures/fig2_F4_LeNet-MNIST_-Ofast_\n"
     ]
    },
    {
     "data": {
      "application/vnd.jupyter.widget-view+json": {
       "model_id": "f0bde2f08bd248d99eb0b0b698d4df4f",
       "version_major": 2,
       "version_minor": 0
      },
      "text/plain": [
       "Canvas(toolbar=Toolbar(toolitems=[('Home', 'Reset original view', 'home', 'home'), ('Back', 'Back to previous …"
      ]
     },
     "metadata": {},
     "output_type": "display_data"
    },
    {
     "data": {
      "text/html": [
       "<div>\n",
       "<style scoped>\n",
       "    .dataframe tbody tr th:only-of-type {\n",
       "        vertical-align: middle;\n",
       "    }\n",
       "\n",
       "    .dataframe tbody tr th {\n",
       "        vertical-align: top;\n",
       "    }\n",
       "\n",
       "    .dataframe thead th {\n",
       "        text-align: right;\n",
       "    }\n",
       "</style>\n",
       "<table border=\"1\" class=\"dataframe\">\n",
       "  <thead>\n",
       "    <tr style=\"text-align: right;\">\n",
       "      <th></th>\n",
       "      <th>combined_type</th>\n",
       "      <th>tflu_mcu_benchmark_mean</th>\n",
       "    </tr>\n",
       "  </thead>\n",
       "  <tbody>\n",
       "    <tr>\n",
       "      <th>2</th>\n",
       "      <td>W-float32_A-float32_none_0</td>\n",
       "      <td>104.3078140</td>\n",
       "    </tr>\n",
       "    <tr>\n",
       "      <th>0</th>\n",
       "      <td>W-float32_A-float32_none_1</td>\n",
       "      <td>19.5964754</td>\n",
       "    </tr>\n",
       "    <tr>\n",
       "      <th>4</th>\n",
       "      <td>W-int8_A-int8_none_1</td>\n",
       "      <td>17.8879866</td>\n",
       "    </tr>\n",
       "    <tr>\n",
       "      <th>5</th>\n",
       "      <td>W-int8_A-int8_cmsis-nn_1</td>\n",
       "      <td>8.0455337</td>\n",
       "    </tr>\n",
       "  </tbody>\n",
       "</table>\n",
       "</div>"
      ],
      "text/plain": [
       "                combined_type  tflu_mcu_benchmark_mean\n",
       "2  W-float32_A-float32_none_0              104.3078140\n",
       "0  W-float32_A-float32_none_1               19.5964754\n",
       "4        W-int8_A-int8_none_1               17.8879866\n",
       "5    W-int8_A-int8_cmsis-nn_1                8.0455337"
      ]
     },
     "metadata": {},
     "output_type": "display_data"
    },
    {
     "name": "stdout",
     "output_type": "stream",
     "text": [
      "figures/fig2_F7_LeNet-MNIST_-Ofast_\n"
     ]
    },
    {
     "data": {
      "application/vnd.jupyter.widget-view+json": {
       "model_id": "37bfa9822ed4483bb524ab1acec76c12",
       "version_major": 2,
       "version_minor": 0
      },
      "text/plain": [
       "Canvas(toolbar=Toolbar(toolitems=[('Home', 'Reset original view', 'home', 'home'), ('Back', 'Back to previous …"
      ]
     },
     "metadata": {},
     "output_type": "display_data"
    },
    {
     "data": {
      "text/html": [
       "<div>\n",
       "<style scoped>\n",
       "    .dataframe tbody tr th:only-of-type {\n",
       "        vertical-align: middle;\n",
       "    }\n",
       "\n",
       "    .dataframe tbody tr th {\n",
       "        vertical-align: top;\n",
       "    }\n",
       "\n",
       "    .dataframe thead th {\n",
       "        text-align: right;\n",
       "    }\n",
       "</style>\n",
       "<table border=\"1\" class=\"dataframe\">\n",
       "  <thead>\n",
       "    <tr style=\"text-align: right;\">\n",
       "      <th></th>\n",
       "      <th>combined_type</th>\n",
       "      <th>tflu_mcu_benchmark_mean_50</th>\n",
       "    </tr>\n",
       "  </thead>\n",
       "  <tbody>\n",
       "    <tr>\n",
       "      <th>0</th>\n",
       "      <td>W-float32_A-float32_cmsis-nn_0</td>\n",
       "      <td>NaN</td>\n",
       "    </tr>\n",
       "    <tr>\n",
       "      <th>4</th>\n",
       "      <td>W-int8_A-int8_none_0</td>\n",
       "      <td>12090.50392</td>\n",
       "    </tr>\n",
       "    <tr>\n",
       "      <th>5</th>\n",
       "      <td>W-int8_A-int8_cmsis-nn_0</td>\n",
       "      <td>2223.33386</td>\n",
       "    </tr>\n",
       "    <tr>\n",
       "      <th>2</th>\n",
       "      <td>W-float32_A-float32_none_1</td>\n",
       "      <td>NaN</td>\n",
       "    </tr>\n",
       "  </tbody>\n",
       "</table>\n",
       "</div>"
      ],
      "text/plain": [
       "                    combined_type  tflu_mcu_benchmark_mean_50\n",
       "0  W-float32_A-float32_cmsis-nn_0                         NaN\n",
       "4            W-int8_A-int8_none_0                 12090.50392\n",
       "5        W-int8_A-int8_cmsis-nn_0                  2223.33386\n",
       "2      W-float32_A-float32_none_1                         NaN"
      ]
     },
     "metadata": {},
     "output_type": "display_data"
    },
    {
     "name": "stdout",
     "output_type": "stream",
     "text": [
      "figures/fig2_L4_ResNet20_CIFAR-10_-Ofast_\n"
     ]
    },
    {
     "data": {
      "application/vnd.jupyter.widget-view+json": {
       "model_id": "0cd677c973a2475a915e5efa07b52167",
       "version_major": 2,
       "version_minor": 0
      },
      "text/plain": [
       "Canvas(toolbar=Toolbar(toolitems=[('Home', 'Reset original view', 'home', 'home'), ('Back', 'Back to previous …"
      ]
     },
     "metadata": {},
     "output_type": "display_data"
    },
    {
     "data": {
      "text/html": [
       "<div>\n",
       "<style scoped>\n",
       "    .dataframe tbody tr th:only-of-type {\n",
       "        vertical-align: middle;\n",
       "    }\n",
       "\n",
       "    .dataframe tbody tr th {\n",
       "        vertical-align: top;\n",
       "    }\n",
       "\n",
       "    .dataframe thead th {\n",
       "        text-align: right;\n",
       "    }\n",
       "</style>\n",
       "<table border=\"1\" class=\"dataframe\">\n",
       "  <thead>\n",
       "    <tr style=\"text-align: right;\">\n",
       "      <th></th>\n",
       "      <th>combined_type</th>\n",
       "      <th>tflu_mcu_benchmark_mean_50</th>\n",
       "    </tr>\n",
       "  </thead>\n",
       "  <tbody>\n",
       "    <tr>\n",
       "      <th>0</th>\n",
       "      <td>W-float32_A-float32_cmsis-nn_0</td>\n",
       "      <td>21002.11226</td>\n",
       "    </tr>\n",
       "    <tr>\n",
       "      <th>4</th>\n",
       "      <td>W-int8_A-int8_none_0</td>\n",
       "      <td>6507.42480</td>\n",
       "    </tr>\n",
       "    <tr>\n",
       "      <th>5</th>\n",
       "      <td>W-int8_A-int8_cmsis-nn_0</td>\n",
       "      <td>985.54588</td>\n",
       "    </tr>\n",
       "    <tr>\n",
       "      <th>2</th>\n",
       "      <td>W-float32_A-float32_none_1</td>\n",
       "      <td>6151.92884</td>\n",
       "    </tr>\n",
       "  </tbody>\n",
       "</table>\n",
       "</div>"
      ],
      "text/plain": [
       "                    combined_type  tflu_mcu_benchmark_mean_50\n",
       "0  W-float32_A-float32_cmsis-nn_0                 21002.11226\n",
       "4            W-int8_A-int8_none_0                  6507.42480\n",
       "5        W-int8_A-int8_cmsis-nn_0                   985.54588\n",
       "2      W-float32_A-float32_none_1                  6151.92884"
      ]
     },
     "metadata": {},
     "output_type": "display_data"
    },
    {
     "name": "stdout",
     "output_type": "stream",
     "text": [
      "figures/fig2_F4_ResNet20_CIFAR-10_-Ofast_\n"
     ]
    },
    {
     "data": {
      "application/vnd.jupyter.widget-view+json": {
       "model_id": "c57d7e0ec3b749bca94d4b73ac7bf909",
       "version_major": 2,
       "version_minor": 0
      },
      "text/plain": [
       "Canvas(toolbar=Toolbar(toolitems=[('Home', 'Reset original view', 'home', 'home'), ('Back', 'Back to previous …"
      ]
     },
     "metadata": {},
     "output_type": "display_data"
    },
    {
     "data": {
      "text/html": [
       "<div>\n",
       "<style scoped>\n",
       "    .dataframe tbody tr th:only-of-type {\n",
       "        vertical-align: middle;\n",
       "    }\n",
       "\n",
       "    .dataframe tbody tr th {\n",
       "        vertical-align: top;\n",
       "    }\n",
       "\n",
       "    .dataframe thead th {\n",
       "        text-align: right;\n",
       "    }\n",
       "</style>\n",
       "<table border=\"1\" class=\"dataframe\">\n",
       "  <thead>\n",
       "    <tr style=\"text-align: right;\">\n",
       "      <th></th>\n",
       "      <th>combined_type</th>\n",
       "      <th>tflu_mcu_benchmark_mean_50</th>\n",
       "    </tr>\n",
       "  </thead>\n",
       "  <tbody>\n",
       "    <tr>\n",
       "      <th>2</th>\n",
       "      <td>W-float32_A-float32_none_0</td>\n",
       "      <td>11035.57802</td>\n",
       "    </tr>\n",
       "    <tr>\n",
       "      <th>0</th>\n",
       "      <td>W-float32_A-float32_none_1</td>\n",
       "      <td>1613.53754</td>\n",
       "    </tr>\n",
       "    <tr>\n",
       "      <th>4</th>\n",
       "      <td>W-int8_A-int8_none_1</td>\n",
       "      <td>1119.74508</td>\n",
       "    </tr>\n",
       "    <tr>\n",
       "      <th>5</th>\n",
       "      <td>W-int8_A-int8_cmsis-nn_1</td>\n",
       "      <td>449.30214</td>\n",
       "    </tr>\n",
       "  </tbody>\n",
       "</table>\n",
       "</div>"
      ],
      "text/plain": [
       "                combined_type  tflu_mcu_benchmark_mean_50\n",
       "2  W-float32_A-float32_none_0                 11035.57802\n",
       "0  W-float32_A-float32_none_1                  1613.53754\n",
       "4        W-int8_A-int8_none_1                  1119.74508\n",
       "5    W-int8_A-int8_cmsis-nn_1                   449.30214"
      ]
     },
     "metadata": {},
     "output_type": "display_data"
    },
    {
     "name": "stdout",
     "output_type": "stream",
     "text": [
      "figures/fig2_F7_ResNet20_CIFAR-10_-Ofast_\n"
     ]
    }
   ],
   "source": [
    "hue = None\n",
    "filter_dict = {\n",
    "    'compiler_optimization': '-Ofast',\n",
    "    #'cmsis-nn': 'none',\n",
    "    #'FPU_status': 1\n",
    "}\n",
    "\n",
    "for dfs in [lenet_df, resnet_df]:\n",
    "        for mcu in dfs:\n",
    "            df = dfs[mcu]\n",
    "\n",
    "            model_name = get_model_name(df['model'].unique()[0])\n",
    "\n",
    "\n",
    "            filter = (df['weights'] == df['activations'])\n",
    "            \n",
    "            filter_descr = ''\n",
    "            for key in filter_dict:\n",
    "                filter = filter & (df[key] == filter_dict[key])\n",
    "                filter_descr += (str(filter_dict[key]) + '_')\n",
    "                \n",
    "\n",
    "\n",
    "            df_filtered = df.loc[filter]\n",
    "            df_filtered['combined_type'] = df_filtered['model_type'] + '_' + df_filtered['cmsis-nn'] + '_' + df_filtered['FPU_status'].astype(str)\n",
    "            \n",
    "\n",
    "            # let's sort the filtered df so that the order in the plots match\n",
    "            df_filtered = df_filtered.sort_values(by=['model_type'])\n",
    "            df_filtered = df_filtered.reset_index()\n",
    "            df_filtered = df_filtered.drop([1,3,6,7])\n",
    "            df_filtered = df_filtered.sort_values(by=['FPU_status'])\n",
    "\n",
    "\n",
    "            try:\n",
    "                df_filtered.loc[:,('tflu_mcu_benchmark_mean_50')] /= 1000\n",
    "                fig = sns.catplot(y='combined_type', x='tflu_mcu_benchmark_mean_50', kind='bar', data=df_filtered, hue=hue,  height=2, aspect=16/9)\n",
    "                display(df_filtered[['combined_type', 'tflu_mcu_benchmark_mean_50']].drop_duplicates())\n",
    "\n",
    "            except KeyError:\n",
    "                df_filtered.loc[:,('tflu_mcu_benchmark_mean')] /= 1000\n",
    "                fig = sns.catplot(y='combined_type', x='tflu_mcu_benchmark_mean', kind='bar', data=df_filtered, hue=hue, height=2, aspect=16/9)\n",
    "                display(df_filtered[['combined_type','tflu_mcu_benchmark_mean']].drop_duplicates())\n",
    "\n",
    "\n",
    "            #plt.title(mcu + ' - ' + model_name  + json.dumps(filter_dict, indent=4)[1:-1])\n",
    "\n",
    "            plt.xlabel(\"Inference Latency [ms]\")\n",
    "            plt.ylabel(\"Model Type\")\n",
    " \n",
    "            fig.set_yticklabels(['Unoptimized (U)', 'U + FPU', 'Quantized (Q)', 'Q + CMSIS-NN'])\n",
    "\n",
    "            \n",
    "            filename = f'figures/fig2_{mcu}_{model_name}_{filter_descr}'\n",
    "        \n",
    "            print(filename)\n",
    "\n",
    "            plt.tight_layout()\n",
    "            plt.show()\n",
    "            plt.savefig(filename + '.pdf')"
   ]
  },
  {
   "cell_type": "markdown",
   "metadata": {},
   "source": [
    "---"
   ]
  },
  {
   "cell_type": "markdown",
   "metadata": {},
   "source": [
    "# Figure 3: Pareto Frontier"
   ]
  },
  {
   "cell_type": "code",
   "execution_count": 4,
   "metadata": {},
   "outputs": [],
   "source": [
    "df = pd.read_pickle('data/A_Aggregated_energy_inference_table.pkl')\n",
    "\n",
    "df['model_type'] = df['model_type'].str.replace('_','-')\n",
    "df['MCU'] = df['MCU'].str.replace('_','-')\n",
    "\n",
    "di = {\"NUCLEO-L496ZG\": \"L4\", \"DISCO-F469NI\": \"F4\", \"NUCLEO-F767ZI\": \"F7\"}\n",
    "df = df.replace({\"MCU\": di})\n",
    "df = df.reset_index()"
   ]
  },
  {
   "cell_type": "code",
   "execution_count": 5,
   "metadata": {},
   "outputs": [
    {
     "name": "stdout",
     "output_type": "stream",
     "text": [
      "5      448.09717988\n",
      "14    2209.18812500\n",
      "Name: latency_mean, dtype: float64\n",
      "5     193.27060836\n",
      "5     193.27060836\n",
      "14     98.19830809\n",
      "Name: energy_mean, dtype: float64\n"
     ]
    },
    {
     "data": {
      "application/vnd.jupyter.widget-view+json": {
       "model_id": "fe2af6c7f5e64934a9df9ee86b003139",
       "version_major": 2,
       "version_minor": 0
      },
      "text/plain": [
       "Canvas(toolbar=Toolbar(toolitems=[('Home', 'Reset original view', 'home', 'home'), ('Back', 'Back to previous …"
      ]
     },
     "metadata": {},
     "output_type": "display_data"
    },
    {
     "data": {
      "text/html": [
       "<div>\n",
       "<style scoped>\n",
       "    .dataframe tbody tr th:only-of-type {\n",
       "        vertical-align: middle;\n",
       "    }\n",
       "\n",
       "    .dataframe tbody tr th {\n",
       "        vertical-align: top;\n",
       "    }\n",
       "\n",
       "    .dataframe thead th {\n",
       "        text-align: right;\n",
       "    }\n",
       "</style>\n",
       "<table border=\"1\" class=\"dataframe\">\n",
       "  <thead>\n",
       "    <tr style=\"text-align: right;\">\n",
       "      <th></th>\n",
       "      <th>model_type</th>\n",
       "      <th>latency_mean</th>\n",
       "      <th>energy_mean</th>\n",
       "    </tr>\n",
       "  </thead>\n",
       "  <tbody>\n",
       "    <tr>\n",
       "      <th>15</th>\n",
       "      <td>W-float32-A-float32</td>\n",
       "      <td>6131.24085938</td>\n",
       "      <td>1244.36935550</td>\n",
       "    </tr>\n",
       "    <tr>\n",
       "      <th>20</th>\n",
       "      <td>W-float32-A-float32</td>\n",
       "      <td>6131.23500000</td>\n",
       "      <td>1283.69909146</td>\n",
       "    </tr>\n",
       "    <tr>\n",
       "      <th>0</th>\n",
       "      <td>W-float32-A-float32</td>\n",
       "      <td>1607.76025979</td>\n",
       "      <td>633.66769753</td>\n",
       "    </tr>\n",
       "    <tr>\n",
       "      <th>16</th>\n",
       "      <td>W-float32-A-float32</td>\n",
       "      <td>1607.24151786</td>\n",
       "      <td>638.23991973</td>\n",
       "    </tr>\n",
       "    <tr>\n",
       "      <th>10</th>\n",
       "      <td>W-int8-A-int8</td>\n",
       "      <td>983.23891715</td>\n",
       "      <td>223.95316562</td>\n",
       "    </tr>\n",
       "    <tr>\n",
       "      <th>21</th>\n",
       "      <td>W-int8-A-int8</td>\n",
       "      <td>6486.32022270</td>\n",
       "      <td>1279.32453491</td>\n",
       "    </tr>\n",
       "    <tr>\n",
       "      <th>3</th>\n",
       "      <td>W-int8-A-int8</td>\n",
       "      <td>1113.99444731</td>\n",
       "      <td>584.32011147</td>\n",
       "    </tr>\n",
       "    <tr>\n",
       "      <th>5</th>\n",
       "      <td>W-int8-A-int8</td>\n",
       "      <td>448.09717988</td>\n",
       "      <td>193.27060836</td>\n",
       "    </tr>\n",
       "    <tr>\n",
       "      <th>14</th>\n",
       "      <td>W-int8-A-int8</td>\n",
       "      <td>2209.18812500</td>\n",
       "      <td>98.19830809</td>\n",
       "    </tr>\n",
       "    <tr>\n",
       "      <th>17</th>\n",
       "      <td>W-int8-A-int8</td>\n",
       "      <td>12041.71437500</td>\n",
       "      <td>550.70729805</td>\n",
       "    </tr>\n",
       "  </tbody>\n",
       "</table>\n",
       "</div>"
      ],
      "text/plain": [
       "             model_type    latency_mean    energy_mean\n",
       "15  W-float32-A-float32   6131.24085938  1244.36935550\n",
       "20  W-float32-A-float32   6131.23500000  1283.69909146\n",
       "0   W-float32-A-float32   1607.76025979   633.66769753\n",
       "16  W-float32-A-float32   1607.24151786   638.23991973\n",
       "10        W-int8-A-int8    983.23891715   223.95316562\n",
       "21        W-int8-A-int8   6486.32022270  1279.32453491\n",
       "3         W-int8-A-int8   1113.99444731   584.32011147\n",
       "5         W-int8-A-int8    448.09717988   193.27060836\n",
       "14        W-int8-A-int8   2209.18812500    98.19830809\n",
       "17        W-int8-A-int8  12041.71437500   550.70729805"
      ]
     },
     "metadata": {},
     "output_type": "display_data"
    },
    {
     "name": "stdout",
     "output_type": "stream",
     "text": [
      "figures/fig3_scatter_pareto_ResNet20_CIFAR-10\n",
      "19     8.08038651\n",
      "11    36.46437500\n",
      "Name: latency_mean, dtype: float64\n",
      "19    3.21706050\n",
      "19    3.21706050\n",
      "11    1.58983832\n",
      "Name: energy_mean, dtype: float64\n"
     ]
    },
    {
     "data": {
      "application/vnd.jupyter.widget-view+json": {
       "model_id": "26dd1c54cfd245ad809d4ab518c0569e",
       "version_major": 2,
       "version_minor": 0
      },
      "text/plain": [
       "Canvas(toolbar=Toolbar(toolitems=[('Home', 'Reset original view', 'home', 'home'), ('Back', 'Back to previous …"
      ]
     },
     "metadata": {},
     "output_type": "display_data"
    },
    {
     "data": {
      "text/html": [
       "<div>\n",
       "<style scoped>\n",
       "    .dataframe tbody tr th:only-of-type {\n",
       "        vertical-align: middle;\n",
       "    }\n",
       "\n",
       "    .dataframe tbody tr th {\n",
       "        vertical-align: top;\n",
       "    }\n",
       "\n",
       "    .dataframe thead th {\n",
       "        text-align: right;\n",
       "    }\n",
       "</style>\n",
       "<table border=\"1\" class=\"dataframe\">\n",
       "  <thead>\n",
       "    <tr style=\"text-align: right;\">\n",
       "      <th></th>\n",
       "      <th>model_type</th>\n",
       "      <th>latency_mean</th>\n",
       "      <th>energy_mean</th>\n",
       "    </tr>\n",
       "  </thead>\n",
       "  <tbody>\n",
       "    <tr>\n",
       "      <th>1</th>\n",
       "      <td>W-float32-A-float32</td>\n",
       "      <td>58.39062500</td>\n",
       "      <td>11.94871866</td>\n",
       "    </tr>\n",
       "    <tr>\n",
       "      <th>8</th>\n",
       "      <td>W-float32-A-float32</td>\n",
       "      <td>59.35484375</td>\n",
       "      <td>12.78852949</td>\n",
       "    </tr>\n",
       "    <tr>\n",
       "      <th>7</th>\n",
       "      <td>W-float32-A-float32</td>\n",
       "      <td>19.95101351</td>\n",
       "      <td>8.38124693</td>\n",
       "    </tr>\n",
       "    <tr>\n",
       "      <th>18</th>\n",
       "      <td>W-float32-A-float32</td>\n",
       "      <td>19.58125000</td>\n",
       "      <td>8.18971318</td>\n",
       "    </tr>\n",
       "    <tr>\n",
       "      <th>4</th>\n",
       "      <td>W-float32-A-float32</td>\n",
       "      <td>113.01296875</td>\n",
       "      <td>5.10258974</td>\n",
       "    </tr>\n",
       "    <tr>\n",
       "      <th>12</th>\n",
       "      <td>W-float32-A-float32</td>\n",
       "      <td>112.06140625</td>\n",
       "      <td>5.09570572</td>\n",
       "    </tr>\n",
       "    <tr>\n",
       "      <th>6</th>\n",
       "      <td>W-int8-A-int8</td>\n",
       "      <td>16.08033088</td>\n",
       "      <td>3.74759469</td>\n",
       "    </tr>\n",
       "    <tr>\n",
       "      <th>13</th>\n",
       "      <td>W-int8-A-int8</td>\n",
       "      <td>65.46621622</td>\n",
       "      <td>14.65044108</td>\n",
       "    </tr>\n",
       "    <tr>\n",
       "      <th>2</th>\n",
       "      <td>W-int8-A-int8</td>\n",
       "      <td>17.91729798</td>\n",
       "      <td>8.43169922</td>\n",
       "    </tr>\n",
       "    <tr>\n",
       "      <th>19</th>\n",
       "      <td>W-int8-A-int8</td>\n",
       "      <td>8.08038651</td>\n",
       "      <td>3.21706050</td>\n",
       "    </tr>\n",
       "    <tr>\n",
       "      <th>9</th>\n",
       "      <td>W-int8-A-int8</td>\n",
       "      <td>120.52125000</td>\n",
       "      <td>5.43261917</td>\n",
       "    </tr>\n",
       "    <tr>\n",
       "      <th>11</th>\n",
       "      <td>W-int8-A-int8</td>\n",
       "      <td>36.46437500</td>\n",
       "      <td>1.58983832</td>\n",
       "    </tr>\n",
       "  </tbody>\n",
       "</table>\n",
       "</div>"
      ],
      "text/plain": [
       "             model_type  latency_mean  energy_mean\n",
       "1   W-float32-A-float32   58.39062500  11.94871866\n",
       "8   W-float32-A-float32   59.35484375  12.78852949\n",
       "7   W-float32-A-float32   19.95101351   8.38124693\n",
       "18  W-float32-A-float32   19.58125000   8.18971318\n",
       "4   W-float32-A-float32  113.01296875   5.10258974\n",
       "12  W-float32-A-float32  112.06140625   5.09570572\n",
       "6         W-int8-A-int8   16.08033088   3.74759469\n",
       "13        W-int8-A-int8   65.46621622  14.65044108\n",
       "2         W-int8-A-int8   17.91729798   8.43169922\n",
       "19        W-int8-A-int8    8.08038651   3.21706050\n",
       "9         W-int8-A-int8  120.52125000   5.43261917\n",
       "11        W-int8-A-int8   36.46437500   1.58983832"
      ]
     },
     "metadata": {},
     "output_type": "display_data"
    },
    {
     "name": "stdout",
     "output_type": "stream",
     "text": [
      "figures/fig3_scatter_pareto_LeNet-MNIST\n"
     ]
    }
   ],
   "source": [
    "models = df['model_name'].unique()\n",
    "\n",
    "for model in models:\n",
    "    filter = (df['weights'] == df['activations']) & (df['model_name'] == model)\n",
    "    df_filtered = df.loc[filter]\n",
    "    model_name = get_model_name(df_filtered['model'].unique()[0])\n",
    "\n",
    "    # let's sort the filtered df so that the order in the plots match\n",
    "    df_filtered = df_filtered.sort_values(by=['model_type', 'MCU'])\n",
    "    df_filtered.loc[:,('energy_mean')] *= 1000\n",
    "    df_filtered.loc[:,('latency_mean')] *= 1000\n",
    "\n",
    "    # determining pareto points\n",
    "    x_index = df_filtered['latency_mean'].idxmin()\n",
    "    y_index = df_filtered['energy_mean'].idxmin()\n",
    "    \n",
    "    \n",
    "    x_values = df_filtered.loc[[x_index,y_index,y_index],'latency_mean']\n",
    "    y_values = df_filtered.loc[[x_index,x_index,y_index],'energy_mean']\n",
    "    print(x_values[0:2])\n",
    "    print(y_values)\n",
    "    \n",
    "\n",
    "    fig, ax = plt.subplots(figsize=(4,3))\n",
    "\n",
    "    plt.plot(x_values, y_values, c='r', ls='-', label='Pareto Front', linewidth=2);\n",
    "\n",
    "    \n",
    "    sns.scatterplot(ax=ax, x=\"latency_mean\", y=\"energy_mean\", hue=\"MCU\", data=df_filtered, \n",
    "                    hue_order=[\"L4\", \"F4\", \"F7\"], legend='brief', s=50, style='MCU') #, markers=['.', 'x', '*'])\n",
    "    display(df_filtered[['model_type','latency_mean', 'energy_mean']])\n",
    "\n",
    "    plt.legend()\n",
    "    #sns.lineplot(ax=ax, x=x_values[0:2], y=y_values[0:2], c='r', ls='--', label='Pareto Frontier');\n",
    "    \n",
    "    #sns.lineplot(ax=ax, x=x_values[1:2], y=y_values[1:2], c='r', ls='--', label='Pareto Frontier');\n",
    "\n",
    "    #sns.lineplot(ax=ax, x=p1, y=[p2.iloc[0],5], c='g', ls='--', label='Pareto Frontier');\n",
    "\n",
    "    #plt.legend()\n",
    "    #plt.legend(['Pareto Frontier', 'L4', 'F4', 'F7'])\n",
    "    #plt.title(model_name)\n",
    "\n",
    "    plt.xlabel(\"Inference Latency [ms]\")\n",
    "    plt.ylabel(\"Inference Energy Consumption [mJ]\")\n",
    "    \n",
    "    filename = f'figures/fig3_scatter_pareto_{model_name}'\n",
    "    print(filename)\n",
    "\n",
    "    plt.tight_layout()\n",
    "    plt.show()\n",
    "    plt.savefig(filename + '.pdf')"
   ]
  },
  {
   "cell_type": "markdown",
   "metadata": {},
   "source": [
    "---"
   ]
  },
  {
   "cell_type": "markdown",
   "metadata": {},
   "source": [
    "# Figure 4: Non-linearity Dense Layer: Ops and Latency"
   ]
  },
  {
   "cell_type": "code",
   "execution_count": 6,
   "metadata": {},
   "outputs": [],
   "source": [
    "filename = 'data/F-combined_no-cmsis_N_01ec_DenseBenchmark_varying-input_U-440_layer_results_2021-03-31.pkl'\n",
    "\n",
    "df = pd.read_pickle(filename)\n",
    "try:\n",
    "    df = df.drop((df[df['error'].notna()]).index)\n",
    "except:\n",
    "    pass\n",
    "\n",
    "df['model_type'] = df['model_type'].str.replace('_','-')\n",
    "df['MCU'] = df['MCU'].str.replace('_','-')\n",
    "\n",
    "di = {\"NUCLEO-L496ZG\": \"L4\", \"DISCO-F469NI\": \"F4\", \"NUCLEO-F767ZI\": \"F7\"}\n",
    "\n",
    "df = df.replace({\"MCU\": di})\n",
    "\n",
    "for i in range(0,500,1):\n",
    "    string = f\"_U-{i:03}\"\n",
    "    filter = df['model'].str.contains(string)\n",
    "    df.loc[filter, 'dense_units'] = int(i)\n",
    "    \n",
    "filter = (df['layer'].str.contains('2_FULLY'))\n",
    "df.loc[filter, 'layer_FLOPs'] = 2 * (10*10) * df['dense_units']\n",
    "df.loc[filter, 'layer_MACCs'] = df['dense_units'] * (10*10 + 1)\n",
    "\n",
    "\n",
    "# of interest -> varying input\n",
    "filter = (df['layer'].str.contains('3_FULLY'))\n",
    "df.loc[filter, 'layer_FLOPs'] = 2 * df['dense_units'] * 450\n",
    "df.loc[filter, 'layer_MACCs'] = 450 * (df['dense_units']  + 1)\n",
    "\n",
    "\n",
    "\n",
    "filter = (df['layer'].str.contains('4_FULLY'))\n",
    "df.loc[filter, 'layer_FLOPs'] = 2 * 450 * df['dense_units'] \n",
    "df.loc[filter, 'layer_MACCs'] = df['dense_units'] * (450  + 1)\n",
    "\n",
    "\n",
    "# of interest -> varying input\n",
    "filter = (df['layer'].str.contains('5_FULLY'))\n",
    "df.loc[filter, 'layer_FLOPs'] = 2* df['dense_units'] * 450\n",
    "df.loc[filter, 'layer_MACCs'] = 450 * (df['dense_units']  + 1)\n",
    "\n",
    "\n",
    "\n",
    "filter = (df['layer'].str.contains('6_FULLY'))\n",
    "df.loc[filter, 'layer_FLOPs'] = 2 * 450 * 10\n",
    "df.loc[filter, 'layer_MACCs'] = 10 * (450  + 1)\n",
    "\n",
    "\n",
    "\n",
    "filter = ~(df['layer'].str.contains('FULLY'))\n",
    "df.loc[filter, 'layer_FLOPs'] = 100\n",
    "df.loc[filter, 'layer_MACCs'] = 100\n",
    "\n",
    "\n",
    "models = df['model'].unique()\n",
    "\n",
    "for model in models:\n",
    "    filter = (df['model'] == model)\n",
    "    df_filtered = df.loc[filter]\n",
    "    #display(df_filtered)\n",
    "    df.loc[filter, 'layer_FLOPs_sum'] = df_filtered['layer_FLOPs'].sum()\n",
    "    df.loc[filter, 'layer_FLOPs_relative'] = df_filtered['layer_FLOPs'] / df.loc[filter,'layer_FLOPs_sum']"
   ]
  },
  {
   "cell_type": "code",
   "execution_count": 7,
   "metadata": {},
   "outputs": [],
   "source": [
    "df['dense_type'] = np.where(df['dense_units'] % 2, 'odd', 'even')\n",
    "\n",
    "filter = ~(df['dense_units'] % 4).astype(bool)\n",
    "df.loc[filter, 'dense_type'] = 'modulo 4'"
   ]
  },
  {
   "cell_type": "code",
   "execution_count": 8,
   "metadata": {},
   "outputs": [
    {
     "name": "stdout",
     "output_type": "stream",
     "text": [
      "unknown model name\n"
     ]
    },
    {
     "data": {
      "application/vnd.jupyter.widget-view+json": {
       "model_id": "7b9d9858af2a4eb4a0bf5133e97be271",
       "version_major": 2,
       "version_minor": 0
      },
      "text/plain": [
       "Canvas(toolbar=Toolbar(toolitems=[('Home', 'Reset original view', 'home', 'home'), ('Back', 'Back to previous …"
      ]
     },
     "metadata": {},
     "output_type": "display_data"
    },
    {
     "name": "stdout",
     "output_type": "stream",
     "text": [
      "figures/fig4_dense-units_latency_L4_01ec_DenseBenchmark_varying-input_U-440_Q-full\n"
     ]
    }
   ],
   "source": [
    "hue = None\n",
    "models = df['model'].unique()\n",
    "model = models[0]\n",
    "\n",
    "mcus = df['MCU'].unique()\n",
    "\n",
    "for mcu in mcus:\n",
    "\n",
    "    model_name = get_model_name(model)\n",
    "    filter = (df['layer'].str.contains('3_FULLY'))\n",
    "    filter &= (df['cmsis-nn'] == 'cmsis-nn')\n",
    "\n",
    "    #filter = (df['filters'] == 4)\n",
    "    df_filtered = df.loc[filter]\n",
    "    #df_filtered['dense_units'] = df_filtered['dense_units'].astype(\"category\")\n",
    "\n",
    "    df_filtered.loc[:,('layer_latency_mean')] /= 1000\n",
    "\n",
    "    #df_filtered = df_filtered.sort_values(by=['filter_type'])\n",
    "\n",
    "\n",
    "    #sns.scatterplot(x='layer_MACCs', y='layer_latency_mean', data=df_filtered, size='layer_MACCs') \n",
    "    g = sns.relplot(x='layer_MACCs', y='layer_latency_mean', data=df_filtered, aspect=4/3, height=3, # hue='dense_units',\n",
    "                    hue='dense_type', style='dense_type', legend=None, markers=True, ci=None, kind='line', dashes=False, alpha=0.9, linewidth=0)\n",
    "        \n",
    "    #g = sns.relplot(x=\"layer_MACCs\", y=\"layer_latency_mean\", data=df_filtered, aspect=4/3, height=3, \n",
    "     #               hue='filter_type', style=\"filter_type\", legend=None, markers=True, ci=None, kind='line', dashes=False, alpha=0.9, linewidth=0.2)\n",
    "\n",
    "    g.axes[0][0].set_ylim(8.5, 12.5)\n",
    "    g.axes[0][0].set_xlim(201500, 216300)\n",
    "\n",
    "\n",
    "    ticks = g.axes[0][0].get_xticks()\n",
    "\n",
    "    xlabels = ['{:,.0f}'.format(x) + 'K' for x in ticks / 1000]\n",
    "\n",
    "    g.set_xticklabels(xlabels)\n",
    "\n",
    "    #plt.title(mcu + '-' + model_name + '-' + model_type)\n",
    "\n",
    "    plt.ylabel(\"Layer Latency [ms]\")\n",
    "    plt.xlabel(\"MACC Operations per Layer [#]\")\n",
    "    \n",
    "    plt.legend(['Divisible by 4', 'Odd', 'Even'], loc='upper left', title='Input Length')\n",
    "\n",
    "\n",
    "    filename = f'figures/fig4_dense-units_latency_{mcu}_{model}'\n",
    "\n",
    "    print(filename)\n",
    "    plt.tight_layout()\n",
    "    plt.show()\n",
    "    plt.savefig(filename + '.pdf')\n",
    "    #plt.savefig(filename + '.png', dpi=300)"
   ]
  },
  {
   "cell_type": "markdown",
   "metadata": {},
   "source": [
    "---"
   ]
  },
  {
   "cell_type": "markdown",
   "metadata": {},
   "source": [
    "# Figure 5: Non-linearity Conv Layer: Ops and Latency"
   ]
  },
  {
   "cell_type": "code",
   "execution_count": 9,
   "metadata": {},
   "outputs": [],
   "source": [
    "filename = 'data/F-combined_no-cmsis_N_01dg_ConvBenchmark_SingleConv_F-100_K-1_layer_results_2021-04-01.pkl'\n",
    "\n",
    "df = pd.read_pickle(filename)\n",
    "try:\n",
    "    df = df.drop((df[df['error'].notna()]).index)\n",
    "except:\n",
    "    pass\n",
    "\n",
    "df['model_type'] = df['model_type'].str.replace('_','-')\n",
    "df['MCU'] = df['MCU'].str.replace('_','-')\n",
    "\n",
    "di = {\"NUCLEO-L496ZG\": \"L4\", \"DISCO-F469NI\": \"F4\", \"NUCLEO-F767ZI\": \"F7\"}\n",
    "\n",
    "df = df.replace({\"MCU\": di})\n",
    "\n",
    "for i in range(1,200):\n",
    "    string = f\"_K-{i}_\"\n",
    "    filter = df['model'].str.contains(string)\n",
    "    df.loc[filter, 'kernel'] = i\n",
    "    string = f\"_F-{i}_\"\n",
    "    filter = df['model'].str.contains(string)\n",
    "    df.loc[filter, 'filters'] = i\n",
    "    \n",
    "# first layer has only a single input channel\n",
    "filter = (df['layer'].str.contains('1_CONV'))\n",
    "df.loc[filter, 'layer_FLOPs'] = 32*32 * 1 *  (2*df['kernel'] * df['kernel'] + 1) * df['filters']\n",
    "df.loc[filter, 'layer_MACCs'] = 32*32 * 1 *  (df['kernel'] * df['kernel'] + 1) * df['filters']\n",
    "    \n",
    "filter = (df['layer'].str.contains('CONV') & ~(df['layer'].str.contains('1_CONV')))\n",
    "df.loc[filter, 'layer_FLOPs'] = 32*32 * df['filters'] *  (2*df['kernel'] * df['kernel'] + 1) * 60\n",
    "df.loc[filter, 'layer_MACCs'] = 32*32 * df['filters'] *  (df['kernel'] * df['kernel'] + 1) * 60\n",
    "\n",
    "\n",
    "filter = (df['layer'].str.contains('FULLY'))\n",
    "df.loc[filter, 'layer_FLOPs'] = 2* (32*32 * 60) * 10\n",
    "df.loc[filter, 'layer_MACCs'] = (32*32 * 60 + 1) * 10\n",
    "\n",
    "filter = ~(df['layer'].str.contains('FULLY')) & ~(df['layer'].str.contains('CONV'))\n",
    "df.loc[filter, 'layer_FLOPs'] = 10\n",
    "df.loc[filter, 'layer_MACCs'] = 10\n",
    "\n",
    "\n",
    "\n",
    "models = df['model'].unique()\n",
    "\n",
    "for model in models:\n",
    "    filter = (df['model'] == model)\n",
    "    df_filtered = df.loc[filter]\n",
    "    \n",
    "    df.loc[filter, 'layer_FLOPs_sum'] = df_filtered['layer_FLOPs'].sum()\n",
    "    df.loc[filter, 'layer_FLOPs_relative'] = df_filtered['layer_FLOPs'] / df.loc[filter,'layer_FLOPs_sum']\n",
    "    \n",
    "df.loc[:,'filters_kernel'] = 'F-' + df.loc[:,'filters'].astype(str) + '_K-' + df.loc[:,'kernel'].astype(str)\n",
    "\n",
    "\n",
    "df['filter_type'] = np.where(df['filters'] % 2, 'odd', 'even')\n",
    "filter = ~(df['filters'] % 4).astype(bool)\n",
    "df.loc[filter, 'filter_type'] = 'modulo 4'"
   ]
  },
  {
   "cell_type": "code",
   "execution_count": 10,
   "metadata": {},
   "outputs": [
    {
     "data": {
      "text/html": [
       "<div>\n",
       "<style scoped>\n",
       "    .dataframe tbody tr th:only-of-type {\n",
       "        vertical-align: middle;\n",
       "    }\n",
       "\n",
       "    .dataframe tbody tr th {\n",
       "        vertical-align: top;\n",
       "    }\n",
       "\n",
       "    .dataframe thead th {\n",
       "        text-align: right;\n",
       "    }\n",
       "</style>\n",
       "<table border=\"1\" class=\"dataframe\">\n",
       "  <thead>\n",
       "    <tr style=\"text-align: right;\">\n",
       "      <th></th>\n",
       "      <th>layer</th>\n",
       "      <th>layer_latency_mean</th>\n",
       "      <th>layer_MACCs</th>\n",
       "      <th>kernel</th>\n",
       "    </tr>\n",
       "  </thead>\n",
       "  <tbody>\n",
       "    <tr>\n",
       "      <th>0</th>\n",
       "      <td>0_QUANTIZE</td>\n",
       "      <td>573.6</td>\n",
       "      <td>10.0</td>\n",
       "      <td>1.0</td>\n",
       "    </tr>\n",
       "    <tr>\n",
       "      <th>1</th>\n",
       "      <td>1_CONV_2D</td>\n",
       "      <td>203139.9</td>\n",
       "      <td>204800.0</td>\n",
       "      <td>1.0</td>\n",
       "    </tr>\n",
       "    <tr>\n",
       "      <th>2</th>\n",
       "      <td>2_CONV_2D</td>\n",
       "      <td>1833198.3</td>\n",
       "      <td>12288000.0</td>\n",
       "      <td>1.0</td>\n",
       "    </tr>\n",
       "    <tr>\n",
       "      <th>3</th>\n",
       "      <td>3_RESHAPE</td>\n",
       "      <td>8453.2</td>\n",
       "      <td>10.0</td>\n",
       "      <td>1.0</td>\n",
       "    </tr>\n",
       "    <tr>\n",
       "      <th>4</th>\n",
       "      <td>4_FULLY_CONNECTED</td>\n",
       "      <td>88364.9</td>\n",
       "      <td>614410.0</td>\n",
       "      <td>1.0</td>\n",
       "    </tr>\n",
       "    <tr>\n",
       "      <th>...</th>\n",
       "      <td>...</td>\n",
       "      <td>...</td>\n",
       "      <td>...</td>\n",
       "      <td>...</td>\n",
       "    </tr>\n",
       "    <tr>\n",
       "      <th>622</th>\n",
       "      <td>2_CONV_2D</td>\n",
       "      <td>2622974.9</td>\n",
       "      <td>73728000.0</td>\n",
       "      <td>3.0</td>\n",
       "    </tr>\n",
       "    <tr>\n",
       "      <th>623</th>\n",
       "      <td>3_RESHAPE</td>\n",
       "      <td>8453.2</td>\n",
       "      <td>10.0</td>\n",
       "      <td>3.0</td>\n",
       "    </tr>\n",
       "    <tr>\n",
       "      <th>624</th>\n",
       "      <td>4_FULLY_CONNECTED</td>\n",
       "      <td>24772.5</td>\n",
       "      <td>614410.0</td>\n",
       "      <td>3.0</td>\n",
       "    </tr>\n",
       "    <tr>\n",
       "      <th>625</th>\n",
       "      <td>5_SOFTMAX</td>\n",
       "      <td>196.5</td>\n",
       "      <td>10.0</td>\n",
       "      <td>3.0</td>\n",
       "    </tr>\n",
       "    <tr>\n",
       "      <th>626</th>\n",
       "      <td>6_DEQUANTIZE</td>\n",
       "      <td>26.1</td>\n",
       "      <td>10.0</td>\n",
       "      <td>3.0</td>\n",
       "    </tr>\n",
       "  </tbody>\n",
       "</table>\n",
       "<p>588 rows × 4 columns</p>\n",
       "</div>"
      ],
      "text/plain": [
       "                 layer  layer_latency_mean  layer_MACCs  kernel\n",
       "0           0_QUANTIZE               573.6         10.0     1.0\n",
       "1            1_CONV_2D            203139.9     204800.0     1.0\n",
       "2            2_CONV_2D           1833198.3   12288000.0     1.0\n",
       "3            3_RESHAPE              8453.2         10.0     1.0\n",
       "4    4_FULLY_CONNECTED             88364.9     614410.0     1.0\n",
       "..                 ...                 ...          ...     ...\n",
       "622          2_CONV_2D           2622974.9   73728000.0     3.0\n",
       "623          3_RESHAPE              8453.2         10.0     3.0\n",
       "624  4_FULLY_CONNECTED             24772.5     614410.0     3.0\n",
       "625          5_SOFTMAX               196.5         10.0     3.0\n",
       "626       6_DEQUANTIZE                26.1         10.0     3.0\n",
       "\n",
       "[588 rows x 4 columns]"
      ]
     },
     "execution_count": 10,
     "metadata": {},
     "output_type": "execute_result"
    }
   ],
   "source": [
    "df[['layer','layer_latency_mean', 'layer_MACCs','kernel']]"
   ]
  },
  {
   "cell_type": "code",
   "execution_count": 11,
   "metadata": {},
   "outputs": [
    {
     "data": {
      "application/vnd.jupyter.widget-view+json": {
       "model_id": "ae66ea17e530461f88335c4f6cb7056e",
       "version_major": 2,
       "version_minor": 0
      },
      "text/plain": [
       "Canvas(toolbar=Toolbar(toolitems=[('Home', 'Reset original view', 'home', 'home'), ('Back', 'Back to previous …"
      ]
     },
     "metadata": {},
     "output_type": "display_data"
    },
    {
     "data": {
      "text/plain": [
       "LinregressResult(slope=1.9044774133487125e-08, intercept=0.08485098571428651, rvalue=0.7951587764696911, pvalue=1.6500038342802706e-05, stderr=3.3320022277107366e-09)"
      ]
     },
     "metadata": {},
     "output_type": "display_data"
    },
    {
     "data": {
      "text/html": [
       "<div>\n",
       "<style scoped>\n",
       "    .dataframe tbody tr th:only-of-type {\n",
       "        vertical-align: middle;\n",
       "    }\n",
       "\n",
       "    .dataframe tbody tr th {\n",
       "        vertical-align: top;\n",
       "    }\n",
       "\n",
       "    .dataframe thead th {\n",
       "        text-align: right;\n",
       "    }\n",
       "</style>\n",
       "<table border=\"1\" class=\"dataframe\">\n",
       "  <thead>\n",
       "    <tr style=\"text-align: right;\">\n",
       "      <th></th>\n",
       "      <th>filters</th>\n",
       "      <th>layer_MACCs</th>\n",
       "      <th>layer_latency_mean</th>\n",
       "    </tr>\n",
       "  </thead>\n",
       "  <tbody>\n",
       "    <tr>\n",
       "      <th>322</th>\n",
       "      <td>100.0</td>\n",
       "      <td>61440000.0</td>\n",
       "      <td>2.1970924</td>\n",
       "    </tr>\n",
       "    <tr>\n",
       "      <th>337</th>\n",
       "      <td>101.0</td>\n",
       "      <td>62054400.0</td>\n",
       "      <td>2.4259346</td>\n",
       "    </tr>\n",
       "    <tr>\n",
       "      <th>352</th>\n",
       "      <td>102.0</td>\n",
       "      <td>62668800.0</td>\n",
       "      <td>2.2900132</td>\n",
       "    </tr>\n",
       "    <tr>\n",
       "      <th>367</th>\n",
       "      <td>103.0</td>\n",
       "      <td>63283200.0</td>\n",
       "      <td>2.4734752</td>\n",
       "    </tr>\n",
       "    <tr>\n",
       "      <th>382</th>\n",
       "      <td>104.0</td>\n",
       "      <td>63897600.0</td>\n",
       "      <td>2.2827690</td>\n",
       "    </tr>\n",
       "    <tr>\n",
       "      <th>397</th>\n",
       "      <td>105.0</td>\n",
       "      <td>64512000.0</td>\n",
       "      <td>2.5190012</td>\n",
       "    </tr>\n",
       "    <tr>\n",
       "      <th>412</th>\n",
       "      <td>106.0</td>\n",
       "      <td>65126400.0</td>\n",
       "      <td>2.3767302</td>\n",
       "    </tr>\n",
       "    <tr>\n",
       "      <th>427</th>\n",
       "      <td>107.0</td>\n",
       "      <td>65740800.0</td>\n",
       "      <td>2.5666030</td>\n",
       "    </tr>\n",
       "    <tr>\n",
       "      <th>442</th>\n",
       "      <td>108.0</td>\n",
       "      <td>66355200.0</td>\n",
       "      <td>2.3671430</td>\n",
       "    </tr>\n",
       "    <tr>\n",
       "      <th>457</th>\n",
       "      <td>109.0</td>\n",
       "      <td>66969600.0</td>\n",
       "      <td>2.6123049</td>\n",
       "    </tr>\n",
       "    <tr>\n",
       "      <th>472</th>\n",
       "      <td>110.0</td>\n",
       "      <td>67584000.0</td>\n",
       "      <td>2.4635744</td>\n",
       "    </tr>\n",
       "    <tr>\n",
       "      <th>487</th>\n",
       "      <td>111.0</td>\n",
       "      <td>68198400.0</td>\n",
       "      <td>2.6597469</td>\n",
       "    </tr>\n",
       "    <tr>\n",
       "      <th>502</th>\n",
       "      <td>112.0</td>\n",
       "      <td>68812800.0</td>\n",
       "      <td>2.4530541</td>\n",
       "    </tr>\n",
       "    <tr>\n",
       "      <th>517</th>\n",
       "      <td>113.0</td>\n",
       "      <td>69427200.0</td>\n",
       "      <td>2.7053086</td>\n",
       "    </tr>\n",
       "    <tr>\n",
       "      <th>532</th>\n",
       "      <td>114.0</td>\n",
       "      <td>70041600.0</td>\n",
       "      <td>2.5504975</td>\n",
       "    </tr>\n",
       "    <tr>\n",
       "      <th>547</th>\n",
       "      <td>115.0</td>\n",
       "      <td>70656000.0</td>\n",
       "      <td>2.7528704</td>\n",
       "    </tr>\n",
       "    <tr>\n",
       "      <th>562</th>\n",
       "      <td>116.0</td>\n",
       "      <td>71270400.0</td>\n",
       "      <td>2.5372219</td>\n",
       "    </tr>\n",
       "    <tr>\n",
       "      <th>577</th>\n",
       "      <td>117.0</td>\n",
       "      <td>71884800.0</td>\n",
       "      <td>2.7985072</td>\n",
       "    </tr>\n",
       "    <tr>\n",
       "      <th>592</th>\n",
       "      <td>118.0</td>\n",
       "      <td>72499200.0</td>\n",
       "      <td>2.6372713</td>\n",
       "    </tr>\n",
       "    <tr>\n",
       "      <th>607</th>\n",
       "      <td>119.0</td>\n",
       "      <td>73113600.0</td>\n",
       "      <td>2.8459452</td>\n",
       "    </tr>\n",
       "    <tr>\n",
       "      <th>622</th>\n",
       "      <td>120.0</td>\n",
       "      <td>73728000.0</td>\n",
       "      <td>2.6229749</td>\n",
       "    </tr>\n",
       "  </tbody>\n",
       "</table>\n",
       "</div>"
      ],
      "text/plain": [
       "     filters  layer_MACCs  layer_latency_mean\n",
       "322    100.0   61440000.0           2.1970924\n",
       "337    101.0   62054400.0           2.4259346\n",
       "352    102.0   62668800.0           2.2900132\n",
       "367    103.0   63283200.0           2.4734752\n",
       "382    104.0   63897600.0           2.2827690\n",
       "397    105.0   64512000.0           2.5190012\n",
       "412    106.0   65126400.0           2.3767302\n",
       "427    107.0   65740800.0           2.5666030\n",
       "442    108.0   66355200.0           2.3671430\n",
       "457    109.0   66969600.0           2.6123049\n",
       "472    110.0   67584000.0           2.4635744\n",
       "487    111.0   68198400.0           2.6597469\n",
       "502    112.0   68812800.0           2.4530541\n",
       "517    113.0   69427200.0           2.7053086\n",
       "532    114.0   70041600.0           2.5504975\n",
       "547    115.0   70656000.0           2.7528704\n",
       "562    116.0   71270400.0           2.5372219\n",
       "577    117.0   71884800.0           2.7985072\n",
       "592    118.0   72499200.0           2.6372713\n",
       "607    119.0   73113600.0           2.8459452\n",
       "622    120.0   73728000.0           2.6229749"
      ]
     },
     "metadata": {},
     "output_type": "display_data"
    },
    {
     "name": "stdout",
     "output_type": "stream",
     "text": [
      "figures/fig5_conv-regression_L4_01dg_ConvBenchmark_SingleConv_F-100_K-1_Q-full\n"
     ]
    }
   ],
   "source": [
    "\n",
    "models = df['model'].unique()\n",
    "model = models[0]\n",
    "\n",
    "mcus = df['MCU'].unique()\n",
    "\n",
    "for mcu in mcus:\n",
    "\n",
    "\n",
    "    filter = (df['layer'].str.contains('CONV') & ~(df['layer'].str.contains('1_CONV')))\n",
    "    filter &= df['kernel'] == 3\n",
    "    filter &= df['cmsis-nn'] == 'cmsis-nn'\n",
    "\n",
    "    df_filtered = df.loc[filter]\n",
    "\n",
    "    # let's sort the filtered df so that the order in the plots match\n",
    "    #model_type = df_filtered['model_type'].unique()[0]\n",
    "\n",
    "    df_filtered = df_filtered.sort_values(by=['model_type', 'MCU'])\n",
    "\n",
    "    df_filtered.loc[:,('layer_latency_mean')] /= 1000\n",
    "    df_filtered.loc[:,('layer_latency_mean')] /= 1000\n",
    "    #df_filtered.loc[:,'filters'].astype(float)\n",
    "\n",
    "    #df_filtered = df_filtered.sort_values(by=['filter_type'])\n",
    "\n",
    "    \n",
    "    g = sns.relplot(x=\"layer_MACCs\", y=\"layer_latency_mean\", data=df_filtered, height=3, aspect=4/3,\n",
    "                    hue='filter_type', style=\"filter_type\", legend=None, markers=True, ci=None, kind='line', dashes=False, alpha=0.9, linewidth=0.2)\n",
    "\n",
    "    display(linregress(df_filtered['layer_FLOPs'], df_filtered['layer_latency_mean']))\n",
    "    \n",
    "    \n",
    "    display(df_filtered[['filters', 'layer_MACCs','layer_latency_mean']])\n",
    "\n",
    "    g.axes[0][0].set_xlim(61440000, 73728000)\n",
    "    ticks = g.axes[0][0].get_xticks()\n",
    "    xlabels = ['{:,.0f}'.format(x) + 'M' for x in ticks / 1e6]\n",
    "    g.set_xticklabels(xlabels)\n",
    "    \n",
    "\n",
    "    \n",
    "    #plt.title(mcu + '-' + model_name + '-' + model_type)\n",
    "    #plt.xscale('log')\n",
    "    plt.xlabel(\"MACC Operations per Layer [#]\")\n",
    "    plt.ylabel(\"Layer Latency [s]\")\n",
    "\n",
    "    plt.legend(['Divisible by 4', 'Odd', 'Even'], loc='lower right', title=\"No. of Input Channels\")\n",
    "\n",
    "   # secax = .secondary_xaxis('top')\n",
    "   # secax.set_xlabel('angle [rad]')\n",
    "    \n",
    "    \n",
    "    ax2 = g.axes[0][0].twiny()  # instantiate a second axes that shares the same x-axis\n",
    "\n",
    "    ax2.set_xlabel('No. of Input Channels')  # we already handled the x-label with ax1\n",
    "    ax2.set_xticks(df_filtered['filters'].astype(int)[::2])\n",
    "    ax2.set_xlim(100,120)\n",
    "    ax2.grid(False)\n",
    "    \n",
    "    #ax2.plot(t, data2, color=color)\n",
    "\n",
    "#    ax2.tick_params(axis='y', labelcolor=color)\n",
    "    \n",
    "#        ax2 = plt.twiny()\n",
    "\n",
    " #   #ax2 = ax.twiny()\n",
    "  #  ax2.set_xticks(df_filtered['filters'].astype(\"category\"))\n",
    "    \n",
    "    \n",
    "    \n",
    "    filename = f'figures/fig5_conv-regression_{mcu}_{model}'\n",
    " \n",
    "    print(filename)\n",
    "\n",
    "        #plt.legend()\n",
    "\n",
    "\n",
    "    plt.tight_layout()\n",
    "    plt.show()\n",
    "    plt.savefig(filename + '.pdf')\n",
    "    #plt.savefig(filename + '.png', dpi=300)\n",
    "\n",
    "    #tikzplotlib.save(filename + '.tex', axis_width=AXIS_WIDTH, axis_height=AXIS_HEIGHT)"
   ]
  },
  {
   "cell_type": "markdown",
   "metadata": {},
   "source": [
    "---"
   ]
  },
  {
   "cell_type": "markdown",
   "metadata": {},
   "source": [
    "# Appendix"
   ]
  },
  {
   "cell_type": "markdown",
   "metadata": {},
   "source": [
    "## Figure 6: Inference Latency and Energy Consumption "
   ]
  },
  {
   "cell_type": "code",
   "execution_count": 12,
   "metadata": {},
   "outputs": [],
   "source": [
    "df = pd.read_pickle('data/A_Aggregated_energy_inference_table.pkl')\n",
    "\n",
    "df['model_type'] = df['model_type'].str.replace('_','-')\n",
    "df['MCU'] = df['MCU'].str.replace('_','-')\n",
    "\n",
    "di = {\"NUCLEO-L496ZG\": \"L4\", \"DISCO-F469NI\": \"F4\", \"NUCLEO-F767ZI\": \"F7\"}\n",
    "df = df.replace({\"MCU\": di})\n",
    "df = df.reset_index()"
   ]
  },
  {
   "cell_type": "markdown",
   "metadata": {},
   "source": [
    "### absolute"
   ]
  },
  {
   "cell_type": "code",
   "execution_count": 13,
   "metadata": {},
   "outputs": [
    {
     "data": {
      "application/vnd.jupyter.widget-view+json": {
       "model_id": "0d4ca74281ce41a594b97c7a1d8309a1",
       "version_major": 2,
       "version_minor": 0
      },
      "text/plain": [
       "Canvas(toolbar=Toolbar(toolitems=[('Home', 'Reset original view', 'home', 'home'), ('Back', 'Back to previous …"
      ]
     },
     "metadata": {},
     "output_type": "display_data"
    },
    {
     "name": "stdout",
     "output_type": "stream",
     "text": [
      "figures/appendix_fig6_energy-regression-absolute\n"
     ]
    }
   ],
   "source": [
    "model_name = get_model_name(df['model'].unique()[0])\n",
    "\n",
    "\n",
    "df_filtered = df.copy()\n",
    "\n",
    "# let's sort the filtered df so that the order in the plots match\n",
    "df_filtered = df_filtered.sort_values(by=['model_type'])\n",
    "\n",
    "\n",
    "df_filtered.loc[:,('energy_mean')] *= 1000\n",
    "\n",
    "\n",
    "fig = sns.lmplot(x=\"latency_mean\", y=\"energy_mean\", hue=\"MCU\", markers=['s', 'o', 'X'], data=df_filtered, height=3, aspect=4/3,\n",
    "                 hue_order=[\"L4\", \"F4\", \"F7\"], legend='brief', legend_out=False, scatter_kws= {'s': 30}, line_kws={'linewidth': 1})\n",
    "\n",
    "\n",
    "plt.xlabel(\"Inference Latency [s]\")\n",
    "plt.ylabel(\"Inference Energy Consumption [mJ]\")\n",
    "\n",
    "filename = f'figures/appendix_fig6_energy-regression-absolute'\n",
    "\n",
    "print(filename)\n",
    "\n",
    "plt.tight_layout()\n",
    "plt.savefig(filename + '.pdf')"
   ]
  },
  {
   "cell_type": "markdown",
   "metadata": {},
   "source": [
    "### relative"
   ]
  },
  {
   "cell_type": "code",
   "execution_count": 14,
   "metadata": {},
   "outputs": [
    {
     "name": "stdout",
     "output_type": "stream",
     "text": [
      "F7\n"
     ]
    },
    {
     "data": {
      "text/plain": [
       "LinregressResult(slope=0.4144181931110935, intercept=0.00885585463827454, rvalue=0.9873363993199276, pvalue=5.028954036852878e-06, stderr=0.02718393585988921)"
      ]
     },
     "metadata": {},
     "output_type": "display_data"
    },
    {
     "name": "stdout",
     "output_type": "stream",
     "text": [
      "---\n",
      "F4\n"
     ]
    },
    {
     "data": {
      "text/plain": [
       "LinregressResult(slope=0.20224916078795876, intercept=0.005423408653982609, rvalue=0.9993979940849389, pvalue=5.451878612074809e-10, stderr=0.002866306541853928)"
      ]
     },
     "metadata": {},
     "output_type": "display_data"
    },
    {
     "name": "stdout",
     "output_type": "stream",
     "text": [
      "---\n",
      "L4\n"
     ]
    },
    {
     "data": {
      "text/plain": [
       "LinregressResult(slope=0.04574417604812563, intercept=-0.0005410756031233172, rvalue=0.9999865016892436, pvalue=2.733053601873694e-10, stderr=0.00011884062287667882)"
      ]
     },
     "metadata": {},
     "output_type": "display_data"
    },
    {
     "name": "stdout",
     "output_type": "stream",
     "text": [
      "---\n"
     ]
    }
   ],
   "source": [
    "mcus = df['MCU'].unique()\n",
    "\n",
    "for mcu in mcus:\n",
    "    filter = df['MCU'] == mcu\n",
    "    df_filtered = df[filter]\n",
    "    print(mcu)\n",
    "    display(linregress(df_filtered['latency_mean'], df_filtered['energy_mean']))\n",
    "    print('---')\n",
    "    \n",
    "    \n",
    "    # normalize\n",
    "    df.loc[filter, 'latency_mean_relative'] = df.loc[filter, 'latency_mean'] / df.loc[filter, 'latency_mean'].max()\n",
    "    df.loc[filter, 'energy_mean_relative'] = df.loc[filter, 'energy_mean'] / df.loc[filter, 'energy_mean'].max()"
   ]
  },
  {
   "cell_type": "code",
   "execution_count": 15,
   "metadata": {},
   "outputs": [
    {
     "data": {
      "application/vnd.jupyter.widget-view+json": {
       "model_id": "380afae0e20e40708e6cdf5d0bb34773",
       "version_major": 2,
       "version_minor": 0
      },
      "text/plain": [
       "Canvas(toolbar=Toolbar(toolitems=[('Home', 'Reset original view', 'home', 'home'), ('Back', 'Back to previous …"
      ]
     },
     "metadata": {},
     "output_type": "display_data"
    },
    {
     "data": {
      "text/plain": [
       "LinregressResult(slope=1.0289930486249046, intercept=0.005785947684707637, rvalue=0.9946116959441132, pvalue=3.641123440602983e-21, stderr=0.02398275710772669)"
      ]
     },
     "metadata": {},
     "output_type": "display_data"
    },
    {
     "name": "stdout",
     "output_type": "stream",
     "text": [
      "figures/appendix_fig6_energy-regression-normalized\n"
     ]
    }
   ],
   "source": [
    "model_name = get_model_name(df['model'].unique()[0])\n",
    "\n",
    "df_filtered = df.copy()\n",
    "\n",
    "# let's sort the filtered df so that the order in the plots match\n",
    "df_filtered = df_filtered.sort_values(by=['model_type'])\n",
    "\n",
    "df_filtered.loc[:,('energy_mean')] *= 1000\n",
    "\n",
    "\n",
    "fig = sns.lmplot(x=\"latency_mean_relative\", y=\"energy_mean_relative\", hue=\"MCU\", data=df_filtered, height=4, aspect=16/9,  hue_order=[\"L4\", \"F4\", \"F7\"])\n",
    "\n",
    "display(linregress(df_filtered['latency_mean_relative'], df_filtered['energy_mean_relative']))\n",
    "\n",
    "plt.xlabel(\"Inference Latency [s]\")\n",
    "plt.ylabel(\"Inference Energy Consumption [mJ]\")\n",
    "\n",
    "filename = f'figures/appendix_fig6_energy-regression-normalized'\n",
    "\n",
    "print(filename)\n",
    "plt.legend()\n",
    "\n",
    "plt.tight_layout()\n",
    "plt.savefig(filename + '.pdf')"
   ]
  },
  {
   "cell_type": "markdown",
   "metadata": {},
   "source": [
    "## Figure 7: Inference Latency and Energy Consumption per Layer"
   ]
  },
  {
   "cell_type": "code",
   "execution_count": 16,
   "metadata": {},
   "outputs": [],
   "source": [
    "df = pd.read_pickle('data/A_Aggregated_energy_inference_layer_table.pkl')\n",
    "\n",
    "df['model_type'] = df['model_type'].str.replace('_','-')\n",
    "df['MCU'] = df['MCU'].str.replace('_','-')\n",
    "\n",
    "di = {\"NUCLEO-L496ZG\": \"L4\", \"DISCO-F469NI\": \"F4\", \"NUCLEO-F767ZI\": \"F7\"}\n",
    "df = df.replace({\"MCU\": di})"
   ]
  },
  {
   "cell_type": "markdown",
   "metadata": {},
   "source": [
    "### absolute"
   ]
  },
  {
   "cell_type": "code",
   "execution_count": 17,
   "metadata": {},
   "outputs": [
    {
     "data": {
      "application/vnd.jupyter.widget-view+json": {
       "model_id": "21ac067b9ebe43f686965c8eaaf1fc0e",
       "version_major": 2,
       "version_minor": 0
      },
      "text/plain": [
       "Canvas(toolbar=Toolbar(toolitems=[('Home', 'Reset original view', 'home', 'home'), ('Back', 'Back to previous …"
      ]
     },
     "metadata": {},
     "output_type": "display_data"
    },
    {
     "name": "stdout",
     "output_type": "stream",
     "text": [
      "figures/appendix_fig7_layer-energy-regression_absolute\n"
     ]
    }
   ],
   "source": [
    "df_filtered = df.copy()\n",
    "\n",
    "# let's sort the filtered df so that the order in the plots match\n",
    "df_filtered = df_filtered.sort_values(by=['model_type','MCU'])\n",
    "\n",
    "\n",
    "df_filtered.loc[:,('layer_energy_mean')] *= 1000\n",
    "\n",
    "\n",
    "fig = sns.lmplot(x=\"layer_latency_mean\", y=\"layer_energy_mean\", hue=\"MCU\", markers=['s', 'o', 'X'], data=df_filtered, height=3, aspect=4/3,\n",
    "                 hue_order=[\"L4\", \"F4\", \"F7\"], legend='brief', legend_out=False)\n",
    "\n",
    "\n",
    "\n",
    "#plt.title('Regression accross all model, all MCUs, all layers')\n",
    "\n",
    "plt.xlabel(\"Layer Latency [s]\")\n",
    "plt.ylabel(\"Layer Energy Consumption [mJ]\")\n",
    "\n",
    "\n",
    "filename = f'figures/appendix_fig7_layer-energy-regression_absolute'\n",
    "\n",
    "print(filename)\n",
    "#plt.legend(['L4', 'F4', 'F7'])\n",
    "plt.tight_layout()\n",
    "plt.savefig(filename + '.pdf')"
   ]
  },
  {
   "cell_type": "code",
   "execution_count": 18,
   "metadata": {},
   "outputs": [
    {
     "name": "stdout",
     "output_type": "stream",
     "text": [
      "F7\n"
     ]
    },
    {
     "data": {
      "text/plain": [
       "LinregressResult(slope=0.4150492639175373, intercept=0.00038512430903367423, rvalue=0.9875835802128052, pvalue=8.287064035076815e-142, stderr=0.005005091910049231)"
      ]
     },
     "metadata": {},
     "output_type": "display_data"
    },
    {
     "name": "stdout",
     "output_type": "stream",
     "text": [
      "---\n",
      "F4\n"
     ]
    },
    {
     "data": {
      "text/plain": [
       "LinregressResult(slope=0.2020757659415724, intercept=0.000265817138543456, rvalue=0.9994048527800455, pvalue=2.2489780068932132e-256, stderr=0.0005287626020967181)"
      ]
     },
     "metadata": {},
     "output_type": "display_data"
    },
    {
     "name": "stdout",
     "output_type": "stream",
     "text": [
      "---\n",
      "L4\n"
     ]
    },
    {
     "data": {
      "text/plain": [
       "LinregressResult(slope=0.04578387192945581, intercept=-3.477711155989299e-05, rvalue=0.9999563670329774, pvalue=4.890416960901635e-221, stderr=4.115638522577219e-05)"
      ]
     },
     "metadata": {},
     "output_type": "display_data"
    },
    {
     "name": "stdout",
     "output_type": "stream",
     "text": [
      "---\n"
     ]
    }
   ],
   "source": [
    "mcus = df['MCU'].unique()\n",
    "\n",
    "for mcu in mcus:\n",
    "    filter = df['MCU'] == mcu\n",
    "    df_filtered = df[filter]\n",
    "    print(mcu)\n",
    "    display(linregress(df_filtered['layer_latency_mean'], df_filtered['layer_energy_mean']))\n",
    "    print('---')\n"
   ]
  },
  {
   "cell_type": "markdown",
   "metadata": {},
   "source": [
    "### relative"
   ]
  },
  {
   "cell_type": "code",
   "execution_count": 19,
   "metadata": {},
   "outputs": [
    {
     "data": {
      "application/vnd.jupyter.widget-view+json": {
       "model_id": "cba9021273be4d8bbb90550778d8ecc9",
       "version_major": 2,
       "version_minor": 0
      },
      "text/plain": [
       "Canvas(toolbar=Toolbar(toolitems=[('Home', 'Reset original view', 'home', 'home'), ('Back', 'Back to previous …"
      ]
     },
     "metadata": {},
     "output_type": "display_data"
    },
    {
     "data": {
      "text/plain": [
       "LinregressResult(slope=1.0011743960055124, intercept=-5.592361931011647e-05, rvalue=0.9995127472072092, pvalue=0.0, stderr=0.0014577455974796579)"
      ]
     },
     "metadata": {},
     "output_type": "display_data"
    },
    {
     "name": "stdout",
     "output_type": "stream",
     "text": [
      "figures/appendix_fig7_layer-energy-regression_relative\n"
     ]
    }
   ],
   "source": [
    "df_filtered = df.copy()\n",
    "\n",
    "# let's sort the filtered df so that the order in the plots match\n",
    "df_filtered = df_filtered.sort_values(by=['model_type'])\n",
    "\n",
    "\n",
    "df_filtered.loc[:,('layer_energy_mean')] *= 1000\n",
    "df_filtered = df_filtered.sort_values(by=['model_type','MCU'])\n",
    "\n",
    "\n",
    "fig = sns.lmplot(x=\"layer_latency_relativ\", y=\"layer_energy_relativ\", hue=\"MCU\", data=df_filtered, height=4, aspect=16/9, hue_order=[\"L4\", \"F4\", \"F7\"])\n",
    "\n",
    "\n",
    "plt.xlabel(\"Layer Inference Latency Relative\")\n",
    "plt.ylabel(\"Layer Energy Consumption Relative\")\n",
    "\n",
    "display(linregress(df_filtered['layer_latency_relativ'], df_filtered['layer_energy_relativ']))\n",
    "\n",
    "\n",
    "filename = f'figures/appendix_fig7_layer-energy-regression_relative'\n",
    "\n",
    "print(filename)\n",
    "plt.legend()\n",
    "plt.tight_layout()\n",
    "plt.savefig(filename + '.pdf')"
   ]
  },
  {
   "cell_type": "markdown",
   "metadata": {},
   "source": [
    "## Figure 8: Non-linearity Depth-wise Conv Layer: Latency and Ops"
   ]
  },
  {
   "cell_type": "code",
   "execution_count": 20,
   "metadata": {},
   "outputs": [],
   "source": [
    "filename = 'data/F-combined_no-cmsis_N_01f_Depthwise-Conv_f-100_K-1_layer_results_2021-03-23.pkl'\n",
    "\n",
    "df = pd.read_pickle(filename)\n",
    "try:\n",
    "    df = df.drop((df[df['error'].notna()]).index)\n",
    "except:\n",
    "    pass\n",
    "\n",
    "df['model_type'] = df['model_type'].str.replace('_','-')\n",
    "df['MCU'] = df['MCU'].str.replace('_','-')\n",
    "\n",
    "di = {\"NUCLEO-L496ZG\": \"L4\", \"DISCO-F469NI\": \"F4\", \"NUCLEO-F767ZI\": \"F7\"}\n",
    "\n",
    "df = df.replace({\"MCU\": di})\n",
    "\n",
    "for i in range(1,5):\n",
    "    string = f\"_K-{i}_\"\n",
    "    filter = df['model'].str.contains(string)\n",
    "    df.loc[filter, 'kernel'] = i\n",
    "for i in range(1,200):\n",
    "    string = f\"_f-{i}_\"\n",
    "    filter = df['model'].str.contains(string)\n",
    "    df.loc[filter, 'filters'] = i\n",
    "    \n",
    "# first layer has only a single input channel\n",
    "filter = (df['layer'].str.contains('1_CONV'))\n",
    "df.loc[filter, 'layer_FLOPs'] = 24*24 * 1 *  (2*df['kernel'] * df['kernel'] + 1) * df['filters']\n",
    "df.loc[filter, 'layer_MACCs'] = 24*24 * 1 *  (df['kernel'] * df['kernel'] + 1) * df['filters']\n",
    "    \n",
    "filter = (df['layer'].str.contains('2_DEPTHWISE_CONV_2D'))\n",
    "# \n",
    "df.loc[filter, 'layer_FLOPs'] = 24*24 * df['filters'] *  (2*df['kernel'] * df['kernel'] + 1) \n",
    "df.loc[filter, 'layer_MACCs'] = 24*24 * df['filters'] *  (df['kernel'] * df['kernel'] + 1)\n",
    "\n",
    "\n",
    "filter = (df['layer'].str.contains('FULLY'))\n",
    "df.loc[filter, 'layer_FLOPs'] = 2* (24*24 * df['filters']) * 10\n",
    "df.loc[filter, 'layer_MACCs'] = (24*24* df['filters'] + 1) * 10\n",
    "\n",
    "filter = ~(df['layer'].str.contains('FULLY')) & ~(df['layer'].str.contains('CONV'))\n",
    "df.loc[filter, 'layer_FLOPs'] = 10\n",
    "df.loc[filter, 'layer_MACCs'] = 10\n",
    "\n",
    "\n",
    "\n",
    "models = df['model'].unique()\n",
    "\n",
    "for model in models:\n",
    "    filter = (df['model'] == model)\n",
    "    df_filtered = df.loc[filter]\n",
    "    \n",
    "    df.loc[filter, 'layer_FLOPs_sum'] = df_filtered['layer_FLOPs'].sum()\n",
    "    df.loc[filter, 'layer_FLOPs_relative'] = df_filtered['layer_FLOPs'] / df.loc[filter,'layer_FLOPs_sum']\n",
    "    \n",
    "df.loc[:,'filters_kernel'] = 'F-' + df.loc[:,'filters'].astype(str) + '_K-' + df.loc[:,'kernel'].astype(str)\n",
    "\n",
    "df['filter_type'] = np.where(df['filters'] % 2, 'odd', 'even')\n",
    "\n",
    "filter = ~(df['filters'] % 4).astype(bool)\n",
    "df.loc[filter, 'filter_type'] = 'modulo 4'"
   ]
  },
  {
   "cell_type": "code",
   "execution_count": 21,
   "metadata": {},
   "outputs": [
    {
     "data": {
      "text/html": [
       "<div>\n",
       "<style scoped>\n",
       "    .dataframe tbody tr th:only-of-type {\n",
       "        vertical-align: middle;\n",
       "    }\n",
       "\n",
       "    .dataframe tbody tr th {\n",
       "        vertical-align: top;\n",
       "    }\n",
       "\n",
       "    .dataframe thead th {\n",
       "        text-align: right;\n",
       "    }\n",
       "</style>\n",
       "<table border=\"1\" class=\"dataframe\">\n",
       "  <thead>\n",
       "    <tr style=\"text-align: right;\">\n",
       "      <th></th>\n",
       "      <th>layer</th>\n",
       "      <th>kernel</th>\n",
       "      <th>filters</th>\n",
       "      <th>layer_MACCs</th>\n",
       "      <th>layer_FLOPs</th>\n",
       "      <th>layer_latency_mean</th>\n",
       "    </tr>\n",
       "  </thead>\n",
       "  <tbody>\n",
       "    <tr>\n",
       "      <th>9</th>\n",
       "      <td>2_DEPTHWISE_CONV_2D</td>\n",
       "      <td>3.0</td>\n",
       "      <td>100.0</td>\n",
       "      <td>576000.0</td>\n",
       "      <td>1094400.0</td>\n",
       "      <td>0.1503830</td>\n",
       "    </tr>\n",
       "    <tr>\n",
       "      <th>30</th>\n",
       "      <td>2_DEPTHWISE_CONV_2D</td>\n",
       "      <td>3.0</td>\n",
       "      <td>101.0</td>\n",
       "      <td>581760.0</td>\n",
       "      <td>1105344.0</td>\n",
       "      <td>0.1624133</td>\n",
       "    </tr>\n",
       "    <tr>\n",
       "      <th>51</th>\n",
       "      <td>2_DEPTHWISE_CONV_2D</td>\n",
       "      <td>3.0</td>\n",
       "      <td>102.0</td>\n",
       "      <td>587520.0</td>\n",
       "      <td>1116288.0</td>\n",
       "      <td>0.1579335</td>\n",
       "    </tr>\n",
       "    <tr>\n",
       "      <th>72</th>\n",
       "      <td>2_DEPTHWISE_CONV_2D</td>\n",
       "      <td>3.0</td>\n",
       "      <td>103.0</td>\n",
       "      <td>593280.0</td>\n",
       "      <td>1127232.0</td>\n",
       "      <td>0.1661033</td>\n",
       "    </tr>\n",
       "    <tr>\n",
       "      <th>93</th>\n",
       "      <td>2_DEPTHWISE_CONV_2D</td>\n",
       "      <td>3.0</td>\n",
       "      <td>104.0</td>\n",
       "      <td>599040.0</td>\n",
       "      <td>1138176.0</td>\n",
       "      <td>0.1560460</td>\n",
       "    </tr>\n",
       "    <tr>\n",
       "      <th>114</th>\n",
       "      <td>2_DEPTHWISE_CONV_2D</td>\n",
       "      <td>3.0</td>\n",
       "      <td>105.0</td>\n",
       "      <td>604800.0</td>\n",
       "      <td>1149120.0</td>\n",
       "      <td>0.1683572</td>\n",
       "    </tr>\n",
       "    <tr>\n",
       "      <th>135</th>\n",
       "      <td>2_DEPTHWISE_CONV_2D</td>\n",
       "      <td>3.0</td>\n",
       "      <td>106.0</td>\n",
       "      <td>610560.0</td>\n",
       "      <td>1160064.0</td>\n",
       "      <td>0.1637150</td>\n",
       "    </tr>\n",
       "    <tr>\n",
       "      <th>156</th>\n",
       "      <td>2_DEPTHWISE_CONV_2D</td>\n",
       "      <td>3.0</td>\n",
       "      <td>107.0</td>\n",
       "      <td>616320.0</td>\n",
       "      <td>1171008.0</td>\n",
       "      <td>0.1720568</td>\n",
       "    </tr>\n",
       "    <tr>\n",
       "      <th>177</th>\n",
       "      <td>2_DEPTHWISE_CONV_2D</td>\n",
       "      <td>3.0</td>\n",
       "      <td>108.0</td>\n",
       "      <td>622080.0</td>\n",
       "      <td>1181952.0</td>\n",
       "      <td>0.1617131</td>\n",
       "    </tr>\n",
       "    <tr>\n",
       "      <th>198</th>\n",
       "      <td>2_DEPTHWISE_CONV_2D</td>\n",
       "      <td>3.0</td>\n",
       "      <td>109.0</td>\n",
       "      <td>627840.0</td>\n",
       "      <td>1192896.0</td>\n",
       "      <td>0.1746360</td>\n",
       "    </tr>\n",
       "    <tr>\n",
       "      <th>219</th>\n",
       "      <td>2_DEPTHWISE_CONV_2D</td>\n",
       "      <td>3.0</td>\n",
       "      <td>110.0</td>\n",
       "      <td>633600.0</td>\n",
       "      <td>1203840.0</td>\n",
       "      <td>0.1695133</td>\n",
       "    </tr>\n",
       "    <tr>\n",
       "      <th>240</th>\n",
       "      <td>2_DEPTHWISE_CONV_2D</td>\n",
       "      <td>3.0</td>\n",
       "      <td>111.0</td>\n",
       "      <td>639360.0</td>\n",
       "      <td>1214784.0</td>\n",
       "      <td>0.1781229</td>\n",
       "    </tr>\n",
       "    <tr>\n",
       "      <th>261</th>\n",
       "      <td>2_DEPTHWISE_CONV_2D</td>\n",
       "      <td>3.0</td>\n",
       "      <td>112.0</td>\n",
       "      <td>645120.0</td>\n",
       "      <td>1225728.0</td>\n",
       "      <td>0.1673773</td>\n",
       "    </tr>\n",
       "    <tr>\n",
       "      <th>282</th>\n",
       "      <td>2_DEPTHWISE_CONV_2D</td>\n",
       "      <td>3.0</td>\n",
       "      <td>113.0</td>\n",
       "      <td>650880.0</td>\n",
       "      <td>1236672.0</td>\n",
       "      <td>0.1805618</td>\n",
       "    </tr>\n",
       "    <tr>\n",
       "      <th>303</th>\n",
       "      <td>2_DEPTHWISE_CONV_2D</td>\n",
       "      <td>3.0</td>\n",
       "      <td>114.0</td>\n",
       "      <td>656640.0</td>\n",
       "      <td>1247616.0</td>\n",
       "      <td>0.1753910</td>\n",
       "    </tr>\n",
       "    <tr>\n",
       "      <th>324</th>\n",
       "      <td>2_DEPTHWISE_CONV_2D</td>\n",
       "      <td>3.0</td>\n",
       "      <td>115.0</td>\n",
       "      <td>662400.0</td>\n",
       "      <td>1258560.0</td>\n",
       "      <td>0.1842838</td>\n",
       "    </tr>\n",
       "    <tr>\n",
       "      <th>345</th>\n",
       "      <td>2_DEPTHWISE_CONV_2D</td>\n",
       "      <td>3.0</td>\n",
       "      <td>116.0</td>\n",
       "      <td>668160.0</td>\n",
       "      <td>1269504.0</td>\n",
       "      <td>0.1730813</td>\n",
       "    </tr>\n",
       "    <tr>\n",
       "      <th>366</th>\n",
       "      <td>2_DEPTHWISE_CONV_2D</td>\n",
       "      <td>3.0</td>\n",
       "      <td>117.0</td>\n",
       "      <td>673920.0</td>\n",
       "      <td>1280448.0</td>\n",
       "      <td>0.1867140</td>\n",
       "    </tr>\n",
       "    <tr>\n",
       "      <th>387</th>\n",
       "      <td>2_DEPTHWISE_CONV_2D</td>\n",
       "      <td>3.0</td>\n",
       "      <td>118.0</td>\n",
       "      <td>679680.0</td>\n",
       "      <td>1291392.0</td>\n",
       "      <td>0.1811168</td>\n",
       "    </tr>\n",
       "    <tr>\n",
       "      <th>408</th>\n",
       "      <td>2_DEPTHWISE_CONV_2D</td>\n",
       "      <td>3.0</td>\n",
       "      <td>119.0</td>\n",
       "      <td>685440.0</td>\n",
       "      <td>1302336.0</td>\n",
       "      <td>0.1902326</td>\n",
       "    </tr>\n",
       "    <tr>\n",
       "      <th>429</th>\n",
       "      <td>2_DEPTHWISE_CONV_2D</td>\n",
       "      <td>3.0</td>\n",
       "      <td>120.0</td>\n",
       "      <td>691200.0</td>\n",
       "      <td>1313280.0</td>\n",
       "      <td>0.1787418</td>\n",
       "    </tr>\n",
       "  </tbody>\n",
       "</table>\n",
       "</div>"
      ],
      "text/plain": [
       "                   layer  kernel  filters  layer_MACCs  layer_FLOPs  \\\n",
       "9    2_DEPTHWISE_CONV_2D     3.0    100.0     576000.0    1094400.0   \n",
       "30   2_DEPTHWISE_CONV_2D     3.0    101.0     581760.0    1105344.0   \n",
       "51   2_DEPTHWISE_CONV_2D     3.0    102.0     587520.0    1116288.0   \n",
       "72   2_DEPTHWISE_CONV_2D     3.0    103.0     593280.0    1127232.0   \n",
       "93   2_DEPTHWISE_CONV_2D     3.0    104.0     599040.0    1138176.0   \n",
       "114  2_DEPTHWISE_CONV_2D     3.0    105.0     604800.0    1149120.0   \n",
       "135  2_DEPTHWISE_CONV_2D     3.0    106.0     610560.0    1160064.0   \n",
       "156  2_DEPTHWISE_CONV_2D     3.0    107.0     616320.0    1171008.0   \n",
       "177  2_DEPTHWISE_CONV_2D     3.0    108.0     622080.0    1181952.0   \n",
       "198  2_DEPTHWISE_CONV_2D     3.0    109.0     627840.0    1192896.0   \n",
       "219  2_DEPTHWISE_CONV_2D     3.0    110.0     633600.0    1203840.0   \n",
       "240  2_DEPTHWISE_CONV_2D     3.0    111.0     639360.0    1214784.0   \n",
       "261  2_DEPTHWISE_CONV_2D     3.0    112.0     645120.0    1225728.0   \n",
       "282  2_DEPTHWISE_CONV_2D     3.0    113.0     650880.0    1236672.0   \n",
       "303  2_DEPTHWISE_CONV_2D     3.0    114.0     656640.0    1247616.0   \n",
       "324  2_DEPTHWISE_CONV_2D     3.0    115.0     662400.0    1258560.0   \n",
       "345  2_DEPTHWISE_CONV_2D     3.0    116.0     668160.0    1269504.0   \n",
       "366  2_DEPTHWISE_CONV_2D     3.0    117.0     673920.0    1280448.0   \n",
       "387  2_DEPTHWISE_CONV_2D     3.0    118.0     679680.0    1291392.0   \n",
       "408  2_DEPTHWISE_CONV_2D     3.0    119.0     685440.0    1302336.0   \n",
       "429  2_DEPTHWISE_CONV_2D     3.0    120.0     691200.0    1313280.0   \n",
       "\n",
       "     layer_latency_mean  \n",
       "9             0.1503830  \n",
       "30            0.1624133  \n",
       "51            0.1579335  \n",
       "72            0.1661033  \n",
       "93            0.1560460  \n",
       "114           0.1683572  \n",
       "135           0.1637150  \n",
       "156           0.1720568  \n",
       "177           0.1617131  \n",
       "198           0.1746360  \n",
       "219           0.1695133  \n",
       "240           0.1781229  \n",
       "261           0.1673773  \n",
       "282           0.1805618  \n",
       "303           0.1753910  \n",
       "324           0.1842838  \n",
       "345           0.1730813  \n",
       "366           0.1867140  \n",
       "387           0.1811168  \n",
       "408           0.1902326  \n",
       "429           0.1787418  "
      ]
     },
     "metadata": {},
     "output_type": "display_data"
    },
    {
     "data": {
      "application/vnd.jupyter.widget-view+json": {
       "model_id": "a1debb5d60c4418aae37f2f856654b65",
       "version_major": 2,
       "version_minor": 0
      },
      "text/plain": [
       "Canvas(toolbar=Toolbar(toolitems=[('Home', 'Reset original view', 'home', 'home'), ('Back', 'Back to previous …"
      ]
     },
     "metadata": {},
     "output_type": "display_data"
    },
    {
     "data": {
      "text/plain": [
       "LinregressResult(slope=1.3440111880078986e-07, intercept=0.009559404761904727, rvalue=0.8678696572108077, pvalue=3.4606695067437606e-07, stderr=1.7650058260093508e-08)"
      ]
     },
     "metadata": {},
     "output_type": "display_data"
    },
    {
     "name": "stdout",
     "output_type": "stream",
     "text": [
      "figures/appendix_fig8_DW-conv-regression_L4_01f_Depthwise-Conv_f-100_K-1_Q-full\n"
     ]
    }
   ],
   "source": [
    "models = df['model'].unique()\n",
    "model = models[0]\n",
    "\n",
    "filter = (df['layer'].str.contains('DEPTHWISE'))\n",
    "filter &= (df['kernel'] == 3)\n",
    "\n",
    "df_filtered = df.loc[filter]\n",
    "\n",
    "# let's sort the filtered df so that the order in the plots match\n",
    "#model_type = df_filtered['model_type'].unique()[0]\n",
    "\n",
    "df_filtered = df_filtered.sort_values(by=['model_type', 'MCU'])\n",
    "\n",
    "df_filtered.loc[:,('layer_latency_mean')] /= 1000\n",
    "df_filtered.loc[:,('layer_latency_mean')] /= 1000\n",
    "#df_filtered.loc[:,'filters'].astype(float)\n",
    "\n",
    "#df_filtered = df_filtered.sort_values(by=['filter_type'])\n",
    "\n",
    "display(df_filtered[['layer', 'kernel', 'filters', 'layer_MACCs', 'layer_FLOPs', 'layer_latency_mean']])\n",
    "g = sns.relplot(x=\"layer_MACCs\", y=\"layer_latency_mean\", data=df_filtered, height=3, aspect=4/3,\n",
    "                hue='filter_type', style=\"filter_type\", legend=None, markers=True, ci=None, kind='line', dashes=False, alpha=0.9, linewidth=0.2)\n",
    "\n",
    "display(linregress(df_filtered['layer_FLOPs'], df_filtered['layer_latency_mean']))\n",
    "\n",
    "\n",
    "ticks = g.axes[0][0].get_xticks()\n",
    "xlabels = ['{:,.0f}'.format(x) + 'K' for x in ticks / 1e3]\n",
    "g.set_xticklabels(xlabels)\n",
    "\n",
    "\n",
    "plt.xlabel(\"MACC Operations per Layer [#]\")\n",
    "plt.ylabel(\"Layer Latency [s]\")\n",
    "\n",
    "\n",
    "filename = f'figures/appendix_fig8_DW-conv-regression_{mcu}_{model}'\n",
    "\n",
    "print(filename)\n",
    "\n",
    "plt.legend(['Divisible by 4', 'Odd', 'Even'], loc='lower right', title=\"No. of Input Channels\")\n",
    "\n",
    "plt.tight_layout()\n",
    "plt.show()\n",
    "plt.savefig(filename + '.pdf')\n",
    "#plt.savefig(filename + '.png', dpi=300)"
   ]
  },
  {
   "cell_type": "markdown",
   "metadata": {},
   "source": [
    "## Figure 9: Non-linearity Dense Layer: Input Length/Units and Latency"
   ]
  },
  {
   "cell_type": "code",
   "execution_count": 22,
   "metadata": {},
   "outputs": [],
   "source": [
    "filename = 'data/F-combined_no-cmsis_N_01ec_DenseBenchmark_varying-input_U-440_layer_results_2021-03-31.pkl'\n",
    "\n",
    "df = pd.read_pickle(filename)\n",
    "try:\n",
    "    df = df.drop((df[df['error'].notna()]).index)\n",
    "except:\n",
    "    pass\n",
    "\n",
    "df['model_type'] = df['model_type'].str.replace('_','-')\n",
    "df['MCU'] = df['MCU'].str.replace('_','-')\n",
    "\n",
    "di = {\"NUCLEO-L496ZG\": \"L4\", \"DISCO-F469NI\": \"F4\", \"NUCLEO-F767ZI\": \"F7\"}\n",
    "\n",
    "df = df.replace({\"MCU\": di})\n",
    "\n",
    "for i in range(0,500,1):\n",
    "    string = f\"_U-{i:03}\"\n",
    "    filter = df['model'].str.contains(string)\n",
    "    df.loc[filter, 'dense_units'] = int(i)"
   ]
  },
  {
   "cell_type": "code",
   "execution_count": 23,
   "metadata": {},
   "outputs": [
    {
     "name": "stdout",
     "output_type": "stream",
     "text": [
      "unknown model name\n"
     ]
    },
    {
     "data": {
      "application/vnd.jupyter.widget-view+json": {
       "model_id": "85fba0e897bc4047b7c241c6a4337714",
       "version_major": 2,
       "version_minor": 0
      },
      "text/plain": [
       "Canvas(toolbar=Toolbar(toolitems=[('Home', 'Reset original view', 'home', 'home'), ('Back', 'Back to previous …"
      ]
     },
     "metadata": {},
     "output_type": "display_data"
    },
    {
     "name": "stdout",
     "output_type": "stream",
     "text": [
      "figures/appendix_fig9_dense-units-latency_L4_01ec_DenseBenchmark_varying-input_U-440_Q-full\n"
     ]
    }
   ],
   "source": [
    "hue = 'dense_units'\n",
    "models = df['model'].unique()\n",
    "model = models[0]\n",
    "\n",
    "mcus = df['MCU'].unique()\n",
    "\n",
    "for mcu in mcus:\n",
    "\n",
    "    model_name = get_model_name(model)\n",
    "\n",
    "    filter = (df['layer'].str.contains('3_FULLY'))\n",
    "    filter &= df['cmsis-nn'] == 'cmsis-nn'\n",
    "    filter &= df['dense_units'] > 459\n",
    "    filter &= df['dense_units'] < 491\n",
    "\n",
    "    df_filtered = df.loc[filter]\n",
    "    \n",
    "    df_filtered['dense_units']= df_filtered['dense_units'].astype(int)\n",
    "    df_filtered['dense_units'] = df_filtered['dense_units'].astype(\"category\")\n",
    "\n",
    "    df_filtered.loc[:,('layer_latency_mean')] /= 1000\n",
    "\n",
    "\n",
    "    fig = sns.catplot(y='dense_units', x='layer_latency_mean', kind='bar', aspect=0.7, height=3.8, data=df_filtered)\n",
    "\n",
    "    plt.xlabel(\"Layer Latency [ms]\")\n",
    "    plt.ylabel(\"Input Length\")\n",
    "\n",
    "\n",
    "    filename = f'figures/appendix_fig9_dense-units-latency_{mcu}_{model}'\n",
    "\n",
    "    print(filename)\n",
    "\n",
    "    plt.tight_layout()\n",
    "    plt.show()\n",
    "    plt.savefig(filename + '.pdf')\n",
    "    # plt.savefig(filename + '.png', dpi=300)"
   ]
  },
  {
   "cell_type": "code",
   "execution_count": null,
   "metadata": {},
   "outputs": [],
   "source": []
  }
 ],
 "metadata": {
  "kernelspec": {
   "display_name": "Python 3",
   "language": "python",
   "name": "python3"
  },
  "language_info": {
   "codemirror_mode": {
    "name": "ipython",
    "version": 3
   },
   "file_extension": ".py",
   "mimetype": "text/x-python",
   "name": "python",
   "nbconvert_exporter": "python",
   "pygments_lexer": "ipython3",
   "version": "3.8.8"
  }
 },
 "nbformat": 4,
 "nbformat_minor": 4
}
