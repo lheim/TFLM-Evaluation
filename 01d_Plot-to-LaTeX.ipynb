{
 "cells": [
  {
   "cell_type": "markdown",
   "metadata": {},
   "source": [
    "# Plots to Latex\n",
    "\n",
    "This notebook describes the process of porting the following created plots to latex and additionally information."
   ]
  },
  {
   "cell_type": "markdown",
   "metadata": {},
   "source": [
    "https://github.com/garrettj403/SciencePlots"
   ]
  },
  {
   "cell_type": "markdown",
   "metadata": {},
   "source": [
    "#### Matplotlib Params (not in use currently)"
   ]
  },
  {
   "cell_type": "code",
   "execution_count": 15,
   "metadata": {},
   "outputs": [],
   "source": [
    "params = {\n",
    "    'text.latex.preamble': ['\\\\usepackage{gensymb}'],\n",
    "    #'image.origin': 'lower',\n",
    "    'image.interpolation': 'nearest',\n",
    "    'image.cmap': 'gray',\n",
    "    'axes.grid': False,\n",
    "    'savefig.dpi': 300,  # to adjust notebook inline plot size\n",
    "    'axes.labelsize': 8, # fontsize for x and y labels (was 10)\n",
    "    'axes.titlesize': 8,\n",
    "    'font.size': 10, # was 10\n",
    "    'legend.fontsize': 10, # was 10\n",
    "    'xtick.labelsize': 8,\n",
    "    'ytick.labelsize': 8,\n",
    "    'text.usetex': True,\n",
    "    'figure.figsize': [4, 4],\n",
    "    'font.family': 'serif',\n",
    "}\n",
    "\n",
    "params2 = {\n",
    "    'text.latex.preamble': ['\\\\usepackage{gensymb}'],\n",
    "    #'image.origin': 'lower',\n",
    "    'image.interpolation': 'nearest',\n",
    "    'image.cmap': 'jet_r',\n",
    "    'axes.grid': False,\n",
    "    'savefig.dpi': 300,  # to adjust notebook inline plot size\n",
    "    'axes.labelsize': 8, # fontsize for x and y labels (was 10)\n",
    "    'axes.titlesize': 8,\n",
    "    'font.size': 10, # was 10\n",
    "    'legend.fontsize': 10, # was 10\n",
    "    'xtick.labelsize': 8,\n",
    "    'ytick.labelsize': 8,\n",
    "    #'text.usetex': True,\n",
    "    'figure.figsize': [4, 4],\n",
    "    'font.family': 'serif',\n",
    "}"
   ]
  },
  {
   "cell_type": "markdown",
   "metadata": {},
   "source": [
    "Usage\n",
    "\n",
    "```python\n",
    "matplotlib.rcParams.update(params)\n",
    "# normal plots\n",
    "tikzplotlib.clean_figure()\n",
    "tikzplotlib.save(name_run + \".tex\")\n",
    "```"
   ]
  },
  {
   "cell_type": "markdown",
   "metadata": {},
   "source": [
    "In Latex\n",
    "```tex\n",
    "\\begin{figure}[]\n",
    "\t\\begin{center}\n",
    "\t\t\\input{./pics/scaled_grid.tex}\n",
    "\t\\end{center}\t\n",
    "\t\\caption{Different sampling locations}\n",
    "\t\\label{fig:scaled_grid}\n",
    "\\end{figure}\n",
    "```"
   ]
  }
 ],
 "metadata": {
  "kernelspec": {
   "display_name": "Python 3",
   "language": "python",
   "name": "python3"
  },
  "language_info": {
   "codemirror_mode": {
    "name": "ipython",
    "version": 3
   },
   "file_extension": ".py",
   "mimetype": "text/x-python",
   "name": "python",
   "nbconvert_exporter": "python",
   "pygments_lexer": "ipython3",
   "version": "3.8.5"
  }
 },
 "nbformat": 4,
 "nbformat_minor": 4
}
