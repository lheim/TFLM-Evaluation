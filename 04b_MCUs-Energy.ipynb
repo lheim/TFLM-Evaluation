{
 "cells": [
  {
   "cell_type": "markdown",
   "metadata": {},
   "source": [
    "# Energy Plots\n",
    "for whole inferences"
   ]
  },
  {
   "cell_type": "code",
   "execution_count": 1,
   "metadata": {},
   "outputs": [
    {
     "name": "stdout",
     "output_type": "stream",
     "text": [
      "Numpy Version:\t\t 1.19.0\n",
      "Pandas Version:\t\t 1.0.5\n",
      "Matplotlib Version:\t 3.2.2\n"
     ]
    }
   ],
   "source": [
    "%run '00_Imports-and-settings.ipynb'"
   ]
  },
  {
   "cell_type": "code",
   "execution_count": 2,
   "metadata": {},
   "outputs": [],
   "source": [
    "# helper function to get model name\n",
    "def get_model_name(model_string):\n",
    "    if 'ResNet' in model_string:\n",
    "        model_name = 'ResNet20_CIFAR-10'\n",
    "    elif 'LeNet' in model_string:\n",
    "        model_name = 'LeNet-MNIST'\n",
    "    else:\n",
    "        model_name = 'unknown'\n",
    "        print('unknown model name')\n",
    "    return model_name"
   ]
  },
  {
   "cell_type": "code",
   "execution_count": 3,
   "metadata": {},
   "outputs": [],
   "source": [
    "df = pd.read_pickle('results_energy/A_Aggregated_energy_inference_table.pkl')"
   ]
  },
  {
   "cell_type": "code",
   "execution_count": 4,
   "metadata": {},
   "outputs": [],
   "source": [
    "df['model_type'] = df['model_type'].str.replace('_','-')\n",
    "df['MCU'] = df['MCU'].str.replace('_','-')"
   ]
  },
  {
   "cell_type": "code",
   "execution_count": 5,
   "metadata": {},
   "outputs": [
    {
     "data": {
      "text/plain": [
       "Index(['time', 'filename', 'MCU', 'model', 'model_name', 'mbed-dir',\n",
       "       'cmsis-nn', 'compiler_optimization', 'FPU_status', 'model_type',\n",
       "       'weights', 'activations', 'pruned', 'no_correct_inferences',\n",
       "       'latency_mean', 'latency_std', 'voltage_mean', 'voltage_std',\n",
       "       'current_mean', 'current_std', 'power_mean', 'power_std', 'energy_mean',\n",
       "       'energy_std'],\n",
       "      dtype='object')"
      ]
     },
     "execution_count": 5,
     "metadata": {},
     "output_type": "execute_result"
    }
   ],
   "source": [
    "df.columns"
   ]
  },
  {
   "cell_type": "markdown",
   "metadata": {},
   "source": [
    "# energy differences for MCU"
   ]
  },
  {
   "cell_type": "code",
   "execution_count": 6,
   "metadata": {},
   "outputs": [
    {
     "data": {
      "application/vnd.jupyter.widget-view+json": {
       "model_id": "d6d80fb47080445bb0cce23b314fdaa1",
       "version_major": 2,
       "version_minor": 0
      },
      "text/plain": [
       "Canvas(toolbar=Toolbar(toolitems=[('Home', 'Reset original view', 'home', 'home'), ('Back', 'Back to previous …"
      ]
     },
     "metadata": {},
     "output_type": "display_data"
    },
    {
     "data": {
      "text/html": [
       "<div>\n",
       "<style scoped>\n",
       "    .dataframe tbody tr th:only-of-type {\n",
       "        vertical-align: middle;\n",
       "    }\n",
       "\n",
       "    .dataframe tbody tr th {\n",
       "        vertical-align: top;\n",
       "    }\n",
       "\n",
       "    .dataframe thead th {\n",
       "        text-align: right;\n",
       "    }\n",
       "</style>\n",
       "<table border=\"1\" class=\"dataframe\">\n",
       "  <thead>\n",
       "    <tr style=\"text-align: right;\">\n",
       "      <th></th>\n",
       "      <th>MCU</th>\n",
       "      <th>energy_mean</th>\n",
       "    </tr>\n",
       "  </thead>\n",
       "  <tbody>\n",
       "    <tr>\n",
       "      <th>0</th>\n",
       "      <td>DISCO-F469NI</td>\n",
       "      <td>1244.36935550</td>\n",
       "    </tr>\n",
       "    <tr>\n",
       "      <th>0</th>\n",
       "      <td>NUCLEO-F767ZI</td>\n",
       "      <td>638.23991973</td>\n",
       "    </tr>\n",
       "    <tr>\n",
       "      <th>0</th>\n",
       "      <td>DISCO-F469NI</td>\n",
       "      <td>223.95316562</td>\n",
       "    </tr>\n",
       "    <tr>\n",
       "      <th>0</th>\n",
       "      <td>NUCLEO-F767ZI</td>\n",
       "      <td>193.27060836</td>\n",
       "    </tr>\n",
       "    <tr>\n",
       "      <th>0</th>\n",
       "      <td>NUCLEO-L496ZG</td>\n",
       "      <td>98.19830809</td>\n",
       "    </tr>\n",
       "  </tbody>\n",
       "</table>\n",
       "</div>"
      ],
      "text/plain": [
       "             MCU    energy_mean\n",
       "0   DISCO-F469NI  1244.36935550\n",
       "0  NUCLEO-F767ZI   638.23991973\n",
       "0   DISCO-F469NI   223.95316562\n",
       "0  NUCLEO-F767ZI   193.27060836\n",
       "0  NUCLEO-L496ZG    98.19830809"
      ]
     },
     "metadata": {},
     "output_type": "display_data"
    },
    {
     "name": "stdout",
     "output_type": "stream",
     "text": [
      "figures/energy/perModel/01d_ResNet20_CIFAR-10_hue-model_type\n"
     ]
    },
    {
     "data": {
      "application/vnd.jupyter.widget-view+json": {
       "model_id": "e62567e414be4c84a3c4f205e0d91be2",
       "version_major": 2,
       "version_minor": 0
      },
      "text/plain": [
       "Canvas(toolbar=Toolbar(toolitems=[('Home', 'Reset original view', 'home', 'home'), ('Back', 'Back to previous …"
      ]
     },
     "metadata": {},
     "output_type": "display_data"
    },
    {
     "data": {
      "text/html": [
       "<div>\n",
       "<style scoped>\n",
       "    .dataframe tbody tr th:only-of-type {\n",
       "        vertical-align: middle;\n",
       "    }\n",
       "\n",
       "    .dataframe tbody tr th {\n",
       "        vertical-align: top;\n",
       "    }\n",
       "\n",
       "    .dataframe thead th {\n",
       "        text-align: right;\n",
       "    }\n",
       "</style>\n",
       "<table border=\"1\" class=\"dataframe\">\n",
       "  <thead>\n",
       "    <tr style=\"text-align: right;\">\n",
       "      <th></th>\n",
       "      <th>MCU</th>\n",
       "      <th>energy_mean</th>\n",
       "    </tr>\n",
       "  </thead>\n",
       "  <tbody>\n",
       "    <tr>\n",
       "      <th>0</th>\n",
       "      <td>DISCO-F469NI</td>\n",
       "      <td>12.78852949</td>\n",
       "    </tr>\n",
       "    <tr>\n",
       "      <th>0</th>\n",
       "      <td>NUCLEO-F767ZI</td>\n",
       "      <td>8.38124693</td>\n",
       "    </tr>\n",
       "    <tr>\n",
       "      <th>0</th>\n",
       "      <td>NUCLEO-L496ZG</td>\n",
       "      <td>5.10258974</td>\n",
       "    </tr>\n",
       "    <tr>\n",
       "      <th>0</th>\n",
       "      <td>DISCO-F469NI</td>\n",
       "      <td>3.74759469</td>\n",
       "    </tr>\n",
       "    <tr>\n",
       "      <th>0</th>\n",
       "      <td>NUCLEO-F767ZI</td>\n",
       "      <td>3.21706050</td>\n",
       "    </tr>\n",
       "    <tr>\n",
       "      <th>0</th>\n",
       "      <td>NUCLEO-L496ZG</td>\n",
       "      <td>1.58983832</td>\n",
       "    </tr>\n",
       "  </tbody>\n",
       "</table>\n",
       "</div>"
      ],
      "text/plain": [
       "             MCU  energy_mean\n",
       "0   DISCO-F469NI  12.78852949\n",
       "0  NUCLEO-F767ZI   8.38124693\n",
       "0  NUCLEO-L496ZG   5.10258974\n",
       "0   DISCO-F469NI   3.74759469\n",
       "0  NUCLEO-F767ZI   3.21706050\n",
       "0  NUCLEO-L496ZG   1.58983832"
      ]
     },
     "metadata": {},
     "output_type": "display_data"
    },
    {
     "name": "stdout",
     "output_type": "stream",
     "text": [
      "figures/energy/perModel/LeNet-MNIST_hue-model_type\n"
     ]
    }
   ],
   "source": [
    "hue = 'model_type'\n",
    "models = df['model_name'].unique()\n",
    "\n",
    "for model in models:\n",
    "\n",
    "    model_name = get_model_name(df['model'].unique()[0])\n",
    "    model_name = model\n",
    "\n",
    "\n",
    "\n",
    "    filter = (df['weights'] == df['activations']) & (df['model_name'] == model) & (df['cmsis-nn'] == 'cmsis-nn')\n",
    "\n",
    "\n",
    "    df_filtered = df.loc[filter]\n",
    "\n",
    "    # let's sort the filtered df so that the order in the plots match\n",
    "    df_filtered = df_filtered.sort_values(by=['model_type', 'MCU'])\n",
    "\n",
    "\n",
    "    df_filtered.loc[:,('energy_mean')] *= 1000\n",
    "\n",
    "\n",
    "    fig = sns.catplot(y='MCU', x='energy_mean', kind='bar', hue=hue, data=df_filtered, height=4, aspect=16/9, order=[\"NUCLEO-L496ZG\", \"DISCO-F469NI\", \"NUCLEO-F767ZI\"])\n",
    "    display(df_filtered[['MCU', 'energy_mean']].drop_duplicates())\n",
    "\n",
    "\n",
    "\n",
    "    #plt.title( model_name)\n",
    "\n",
    "    plt.xlabel(\"Inference Energy [mJ]\")\n",
    "    plt.ylabel(\"MCU\")\n",
    "    \n",
    "    fig.set_yticklabels(['L4','F4', 'F7'])\n",
    "\n",
    "    fig._legend.texts[0].set_text(\"\\\\texttt{float32}}\")\n",
    "    fig._legend.texts[1].set_text(\"\\\\texttt{int8}\")\n",
    "        \n",
    "\n",
    "    filename = f'figures/energy/perModel/{model_name}_hue-{hue}'\n",
    "\n",
    "    print(filename)\n",
    "\n",
    "    plt.tight_layout()\n",
    "    plt.show()\n",
    "    plt.savefig(filename + '.pdf')\n",
    "    tikzplotlib.save(filename + '.tex', axis_width=AXIS_WIDTH, axis_height=AXIS_HEIGHT)"
   ]
  },
  {
   "cell_type": "code",
   "execution_count": null,
   "metadata": {},
   "outputs": [],
   "source": []
  },
  {
   "cell_type": "code",
   "execution_count": null,
   "metadata": {},
   "outputs": [],
   "source": []
  }
 ],
 "metadata": {
  "kernelspec": {
   "display_name": "Python 3",
   "language": "python",
   "name": "python3"
  },
  "language_info": {
   "codemirror_mode": {
    "name": "ipython",
    "version": 3
   },
   "file_extension": ".py",
   "mimetype": "text/x-python",
   "name": "python",
   "nbconvert_exporter": "python",
   "pygments_lexer": "ipython3",
   "version": "3.8.5"
  }
 },
 "nbformat": 4,
 "nbformat_minor": 4
}
