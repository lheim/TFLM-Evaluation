{
 "cells": [
  {
   "cell_type": "markdown",
   "metadata": {},
   "source": [
    "# Energy Plots\n",
    "for individual layers"
   ]
  },
  {
   "cell_type": "code",
   "execution_count": 1,
   "metadata": {},
   "outputs": [
    {
     "name": "stdout",
     "output_type": "stream",
     "text": [
      "Numpy Version:\t\t 1.19.0\n",
      "Pandas Version:\t\t 1.0.5\n",
      "Matplotlib Version:\t 3.2.2\n"
     ]
    }
   ],
   "source": [
    "%run '00_Imports-and-settings.ipynb'"
   ]
  },
  {
   "cell_type": "code",
   "execution_count": 2,
   "metadata": {},
   "outputs": [],
   "source": [
    "# helper function to get model name\n",
    "def get_model_name(model_string):\n",
    "    if 'ResNet' in model_string:\n",
    "        model_name = 'ResNet20_CIFAR-10'\n",
    "    elif 'LeNet' in model_string:\n",
    "        model_name = 'LeNet-MNIST'\n",
    "    else:\n",
    "        model_name = 'unknown'\n",
    "        print('unknown model name')\n",
    "    return model_name"
   ]
  },
  {
   "cell_type": "markdown",
   "metadata": {},
   "source": [
    "## Energy per layer"
   ]
  },
  {
   "cell_type": "code",
   "execution_count": 3,
   "metadata": {},
   "outputs": [],
   "source": [
    "df = pd.read_pickle('results_energy/A_Aggregated_energy_inference_layer_table.pkl')"
   ]
  },
  {
   "cell_type": "code",
   "execution_count": 4,
   "metadata": {},
   "outputs": [],
   "source": [
    "df['model_type'] = df['model_type'].str.replace('_','-')\n",
    "df['MCU'] = df['MCU'].str.replace('_','-')"
   ]
  },
  {
   "cell_type": "code",
   "execution_count": 5,
   "metadata": {},
   "outputs": [],
   "source": [
    "di = {\"NUCLEO-L496ZG\": \"L4\", \"DISCO-F469NI\": \"F4\", \"NUCLEO-F767ZI\": \"F7\"}\n",
    "\n",
    "df = df.replace({\"MCU\": di})"
   ]
  },
  {
   "cell_type": "code",
   "execution_count": 6,
   "metadata": {},
   "outputs": [
    {
     "data": {
      "text/plain": [
       "Index(['time', 'filename', 'MCU', 'model', 'model_name', 'mbed-dir',\n",
       "       'cmsis-nn', 'compiler_optimization', 'FPU_status', 'model_type',\n",
       "       'weights', 'activations', 'pruned', 'no_correct_inferences', 'layer',\n",
       "       'layer_latency_mean', 'layer_latency_std', 'layer_sample_length_mean',\n",
       "       'layer_sample_length_std', 'layer_voltage_mean', 'layer_voltage_std',\n",
       "       'layer_current_mean', 'layer_current_std', 'layer_power_mean',\n",
       "       'layer_power_std', 'layer_energy_mean', 'layer_energy_std',\n",
       "       'layer_latency_relativ', 'layer_energy_relativ'],\n",
       "      dtype='object')"
      ]
     },
     "execution_count": 6,
     "metadata": {},
     "output_type": "execute_result"
    }
   ],
   "source": [
    "df.columns"
   ]
  },
  {
   "cell_type": "markdown",
   "metadata": {},
   "source": [
    "## Linear Regression across all layers - absolute"
   ]
  },
  {
   "cell_type": "code",
   "execution_count": 7,
   "metadata": {},
   "outputs": [
    {
     "data": {
      "application/vnd.jupyter.widget-view+json": {
       "model_id": "8d890865d65e4048b641664a02dcf44a",
       "version_major": 2,
       "version_minor": 0
      },
      "text/plain": [
       "Canvas(toolbar=Toolbar(toolitems=[('Home', 'Reset original view', 'home', 'home'), ('Back', 'Back to previous …"
      ]
     },
     "metadata": {},
     "output_type": "display_data"
    },
    {
     "name": "stdout",
     "output_type": "stream",
     "text": [
      "figures/layers/energy/regression_absolute\n"
     ]
    }
   ],
   "source": [
    "df_filtered = df.copy()\n",
    "\n",
    "# let's sort the filtered df so that the order in the plots match\n",
    "df_filtered = df_filtered.sort_values(by=['model_type','MCU'])\n",
    "\n",
    "\n",
    "df_filtered.loc[:,('layer_energy_mean')] *= 1000\n",
    "\n",
    "\n",
    "fig = sns.lmplot(x=\"layer_latency_mean\", y=\"layer_energy_mean\", hue=\"MCU\", data=df_filtered, height=4, aspect=16/9, hue_order=[\"L4\", \"F4\", \"F7\"])\n",
    "\n",
    "\n",
    "\n",
    "#plt.title('Regression accross all model, all MCUs, all layers')\n",
    "\n",
    "plt.xlabel(\"Latency of the Layer [s]\")\n",
    "plt.ylabel(\"Layer Energy Consumption [mJ]\")\n",
    "\n",
    "\n",
    "filename = f'figures/layers/energy/regression_absolute'\n",
    "\n",
    "print(filename)\n",
    "plt.legend(['L4', 'F4', 'F7'])\n",
    "plt.tight_layout()\n",
    "plt.show()\n",
    "plt.savefig(filename + '.pdf')\n",
    "tikzplotlib.save(filename + '.tex', axis_width=AXIS_WIDTH, axis_height=AXIS_HEIGHT)"
   ]
  },
  {
   "cell_type": "markdown",
   "metadata": {},
   "source": [
    "## Linear Regression across all layers - relative"
   ]
  },
  {
   "cell_type": "code",
   "execution_count": 8,
   "metadata": {},
   "outputs": [
    {
     "data": {
      "application/vnd.jupyter.widget-view+json": {
       "model_id": "12448468b0884d109c963e8aa3c15227",
       "version_major": 2,
       "version_minor": 0
      },
      "text/plain": [
       "Canvas(toolbar=Toolbar(toolitems=[('Home', 'Reset original view', 'home', 'home'), ('Back', 'Back to previous …"
      ]
     },
     "metadata": {},
     "output_type": "display_data"
    },
    {
     "name": "stdout",
     "output_type": "stream",
     "text": [
      "figures/layers/energy/regression_relative\n"
     ]
    }
   ],
   "source": [
    "df_filtered = df.copy()\n",
    "\n",
    "# let's sort the filtered df so that the order in the plots match\n",
    "df_filtered = df_filtered.sort_values(by=['model_type'])\n",
    "\n",
    "\n",
    "df_filtered.loc[:,('layer_energy_mean')] *= 1000\n",
    "df_filtered = df_filtered.sort_values(by=['model_type','MCU'])\n",
    "\n",
    "\n",
    "fig = sns.lmplot(x=\"layer_latency_relativ\", y=\"layer_energy_relativ\", hue=\"MCU\", data=df_filtered, height=4, aspect=16/9, hue_order=[\"L4\", \"F4\", \"F7\"])\n",
    "\n",
    "\n",
    "\n",
    "#plt.title('Regression accross all model, all MCUs, all layers')\n",
    "\n",
    "plt.xlabel(\"Layer Inference Latency Relative\")\n",
    "plt.ylabel(\"Layer Energy Consumption Relative\")\n",
    "\n",
    "\n",
    "filename = f'figures/layers/energy/regression_relative'\n",
    "\n",
    "print(filename)\n",
    "plt.legend()\n",
    "plt.tight_layout()\n",
    "plt.show()\n",
    "plt.savefig(filename + '.pdf')\n",
    "tikzplotlib.save(filename + '.tex', axis_width=AXIS_WIDTH, axis_height=AXIS_HEIGHT)"
   ]
  },
  {
   "cell_type": "markdown",
   "metadata": {},
   "source": [
    "## Average Power across all layers"
   ]
  },
  {
   "cell_type": "code",
   "execution_count": 9,
   "metadata": {},
   "outputs": [
    {
     "name": "stdout",
     "output_type": "stream",
     "text": [
      "['01d_ResNet20_CIFAR-10' 'LeNet-MNIST']\n"
     ]
    },
    {
     "name": "stderr",
     "output_type": "stream",
     "text": [
      "/usr/local/lib/python3.8/site-packages/pandas/core/computation/expressions.py:177: UserWarning: evaluating in Python space because the '*' operator is not supported by numexpr for the bool dtype, use '&' instead\n",
      "  warnings.warn(\n"
     ]
    },
    {
     "data": {
      "application/vnd.jupyter.widget-view+json": {
       "model_id": "21ba6920627e4909a48e186a7aa6829f",
       "version_major": 2,
       "version_minor": 0
      },
      "text/plain": [
       "Canvas(toolbar=Toolbar(toolitems=[('Home', 'Reset original view', 'home', 'home'), ('Back', 'Back to previous …"
      ]
     },
     "metadata": {},
     "output_type": "display_data"
    },
    {
     "data": {
      "text/plain": [
       "MCU\n",
       "F4    231.29668225\n",
       "F7    406.56370319\n",
       "L4     43.91426761\n",
       "Name: layer_power_mean, dtype: float64"
      ]
     },
     "metadata": {},
     "output_type": "display_data"
    },
    {
     "data": {
      "text/plain": [
       "MCU\n",
       "F4     6.93840755\n",
       "F7    25.76138725\n",
       "L4     1.13501853\n",
       "Name: layer_power_mean, dtype: float64"
      ]
     },
     "metadata": {},
     "output_type": "display_data"
    },
    {
     "name": "stdout",
     "output_type": "stream",
     "text": [
      "figures/layers/energy/ResNet20_CIFAR-10_W-int8-A-int8_power_hue-MCU\n"
     ]
    },
    {
     "data": {
      "application/vnd.jupyter.widget-view+json": {
       "model_id": "902213af8744450e92fbad5a4a7b0e61",
       "version_major": 2,
       "version_minor": 0
      },
      "text/plain": [
       "Canvas(toolbar=Toolbar(toolitems=[('Home', 'Reset original view', 'home', 'home'), ('Back', 'Back to previous …"
      ]
     },
     "metadata": {},
     "output_type": "display_data"
    },
    {
     "data": {
      "text/plain": [
       "MCU\n",
       "F4    232.19875439\n",
       "F7    383.31982653\n",
       "L4     43.00935471\n",
       "Name: layer_power_mean, dtype: float64"
      ]
     },
     "metadata": {},
     "output_type": "display_data"
    },
    {
     "data": {
      "text/plain": [
       "MCU\n",
       "F4    10.01258471\n",
       "F7    22.91306287\n",
       "L4     0.98488045\n",
       "Name: layer_power_mean, dtype: float64"
      ]
     },
     "metadata": {},
     "output_type": "display_data"
    },
    {
     "name": "stdout",
     "output_type": "stream",
     "text": [
      "figures/layers/energy/LeNet-MNIST_W-int8-A-int8_power_hue-MCU\n"
     ]
    }
   ],
   "source": [
    "# model_type = 'W-int8-A-int8'\n",
    "# model_type = 'W-float32-A-float32'\n",
    "\n",
    "hue = 'MCU'\n",
    "models = df['model_name'].unique()\n",
    "print(models)\n",
    "\n",
    "filter_dict = {\n",
    "    'cmsis-nn': 'cmsis-nn',\n",
    "    #'model_type': 'W-int8-A-int8',\n",
    "    'model_type': 'W-int8-A-int8'\n",
    "}\n",
    "\n",
    "\n",
    "layers = [0,1,2,3,4,14,15,16,27,28,39,30,31,32,33,34,35]\n",
    "# '0_QUANTIZE',\n",
    "# '1_CONV_2D',\n",
    "# '2_CONV_2D',\n",
    "# '3_CONV_2D',\n",
    "# '4_ADD',\n",
    "# '14_ADD',\n",
    "# '15_CONV_2D',\n",
    "# '16_CONV_2D',\n",
    "# '27_ADD',\n",
    "# '28_CONV_2D',\n",
    "# '29_CONV_2D',\n",
    "# '30_ADD',\n",
    "# '31_AVERAGE_POOL_2D',\n",
    "# '32_RESHAPE',\n",
    "# '33_FULLY_CONNECTED ',\n",
    "# '34_SOFTMAX',\n",
    "# '35_DEQUANTIZE',\n",
    "# ]\n",
    "\n",
    "for model in models:\n",
    "\n",
    "    model_name = get_model_name(model)\n",
    "    \n",
    "    filter = (df['model_name'] == model)\n",
    "    filter_descr = ''\n",
    "    for key in filter_dict:\n",
    "        filter = filter & (df[key] == filter_dict[key])\n",
    "        filter_descr += (str(filter_dict[key]) + '_')\n",
    "\n",
    "        \n",
    "    if 'ResNet' in model:\n",
    "        filter = filter * (df['layer'].isin(layers))\n",
    "\n",
    "\n",
    "    df_filtered = df.loc[filter]\n",
    "\n",
    "    # let's sort the filtered df so that the order in the plots match\n",
    "    #model_type = df_filtered['model_type'].unique()[0]\n",
    "\n",
    "    df_filtered = df_filtered.sort_values(by=['model_type', 'MCU'])\n",
    "    df_filtered.loc[:,('layer')] = df_filtered.loc[:,('layer')].astype('category')\n",
    "    df_filtered.loc[:,('layer_power_mean')] *= 1000\n",
    "\n",
    "    df_filtered = df_filtered.sort_values(by=['model_type','MCU'])\n",
    "\n",
    "\n",
    "\n",
    "    fig = sns.catplot(y='layer', x='layer_power_mean', kind='bar', hue=hue, data=df_filtered, legend=False, hue_order=[\"L4\", \"F4\", \"F7\"])\n",
    "#     display(df_filtered.Code.map(df_filtered.groupby(['MCU']).Value.mean()))\n",
    "#     display(df_filtered.groupby('MCU').transform('mean'))\n",
    "    display(df_filtered.groupby('MCU')['layer_power_mean'].mean())\n",
    "    display(df_filtered.groupby('MCU')['layer_power_mean'].std())\n",
    "\n",
    "    #plt.title( model_name + '-' + filter_dict['model_type'] + '_' +'Power')\n",
    "\n",
    "    plt.xlabel(\"Power [mW]\")\n",
    "    if \"ResNet\" in model:\n",
    "        plt.ylabel(\"Selected Layers\")\n",
    "    else:\n",
    "        plt.ylabel(\"Layers\")\n",
    "    plt.legend(loc='best')\n",
    "\n",
    "#     plt.legend(['L4', 'F4', 'F7'],loc='best')\n",
    "    filename = f\"figures/layers/energy/{model_name}_{filter_dict['model_type']}_power_hue-{hue}\"\n",
    "    \n",
    "\n",
    "\n",
    "\n",
    "    print(filename)\n",
    "    plt.tight_layout()\n",
    "    plt.show()\n",
    "    plt.savefig(filename + '.pdf')\n",
    "    tikzplotlib.save(filename + '.tex', axis_width=AXIS_WIDTH, axis_height=AXIS_HEIGHT)"
   ]
  },
  {
   "cell_type": "code",
   "execution_count": null,
   "metadata": {},
   "outputs": [],
   "source": []
  },
  {
   "cell_type": "code",
   "execution_count": null,
   "metadata": {},
   "outputs": [],
   "source": []
  }
 ],
 "metadata": {
  "kernelspec": {
   "display_name": "Python 3",
   "language": "python",
   "name": "python3"
  },
  "language_info": {
   "codemirror_mode": {
    "name": "ipython",
    "version": 3
   },
   "file_extension": ".py",
   "mimetype": "text/x-python",
   "name": "python",
   "nbconvert_exporter": "python",
   "pygments_lexer": "ipython3",
   "version": "3.8.5"
  }
 },
 "nbformat": 4,
 "nbformat_minor": 4
}
