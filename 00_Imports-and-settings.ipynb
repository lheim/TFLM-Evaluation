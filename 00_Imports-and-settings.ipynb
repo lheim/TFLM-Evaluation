{
 "cells": [
  {
   "cell_type": "code",
   "execution_count": 6,
   "metadata": {},
   "outputs": [
    {
     "name": "stdout",
     "output_type": "stream",
     "text": [
      "Numpy Version:\t\t 1.19.0\n",
      "Pandas Version:\t\t 1.0.5\n",
      "Matplotlib Version:\t 3.2.2\n"
     ]
    }
   ],
   "source": [
    "import numpy as np\n",
    "import pandas as pd\n",
    "pd.set_option(\"display.precision\", 8)\n",
    "pd.options.mode.chained_assignment = None \n",
    "\n",
    "%matplotlib widget\n",
    "import matplotlib.pyplot as plt\n",
    "import matplotlib\n",
    "plt.rc_context(rc={'figure.max_open_warning': 100})\n",
    "\n",
    "import tikzplotlib\n",
    "AXIS_WIDTH='312.0pt'\n",
    "AXIS_HEIGHT='234.0pt'\n",
    "\n",
    "import json\n",
    "\n",
    "\n",
    "import ipywidgets as widgets\n",
    "from ipywidgets import interact, interactive, fixed, interact_manual, Layout\n",
    "\n",
    "import seaborn as sns\n",
    "matplotlib.rcParams['pdf.fonttype'] = 42\n",
    "matplotlib.rcParams['ps.fonttype'] = 42\n",
    "sns.set(context='paper', style=\"ticks\", font='Palatino', color_codes=True, font_scale=1, \n",
    "        rc={\"axes.grid\": True,  \"axes.labelsize\": 10, \"font.size\": 10, \"legend.fontsize\": 8, \"xtick.labelsize\": 8,\"ytick.labelsize\": 8})\n",
    "sns.set_palette(\"muted\")\n",
    "\n",
    "print(\"Numpy Version:\\t\\t\", np.__version__)\n",
    "print(\"Pandas Version:\\t\\t\", pd.__version__)\n",
    "print(\"Matplotlib Version:\\t\", matplotlib.__version__)\n",
    "\n",
    "\n",
    "columnwidth = 312\n",
    "\n",
    "def get_figsize(columnwidth, wf=0.5, hf=(5.**0.5-1.0)/2.0, ):\n",
    "    \"\"\"Parameters:\n",
    "      - wf [float]:  width fraction in columnwidth units\n",
    "      - hf [float]:  height fraction in columnwidth units.\n",
    "                     Set by default to golden ratio.\n",
    "      - columnwidth [float]: width of the column in latex. Get this from LaTeX \n",
    "                             using \\showthe\\columnwidth\n",
    "    Returns:  [fig_width,fig_height]: that should be given to matplotlib\n",
    "    \"\"\"\n",
    "    fig_width_pt = columnwidth*wf \n",
    "    inches_per_pt = 1.0/72.27               # Convert pt to inch\n",
    "    fig_width = fig_width_pt*inches_per_pt  # width in inches\n",
    "    fig_height = fig_width*hf      # height in inches\n",
    "    return [fig_width, fig_height]"
   ]
  },
  {
   "cell_type": "code",
   "execution_count": null,
   "metadata": {},
   "outputs": [],
   "source": []
  }
 ],
 "metadata": {
  "kernelspec": {
   "display_name": "Python 3",
   "language": "python",
   "name": "python3"
  },
  "language_info": {
   "codemirror_mode": {
    "name": "ipython",
    "version": 3
   },
   "file_extension": ".py",
   "mimetype": "text/x-python",
   "name": "python",
   "nbconvert_exporter": "python",
   "pygments_lexer": "ipython3",
   "version": "3.8.5"
  }
 },
 "nbformat": 4,
 "nbformat_minor": 4
}
