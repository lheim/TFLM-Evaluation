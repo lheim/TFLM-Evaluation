{
 "cells": [
  {
   "cell_type": "markdown",
   "metadata": {},
   "source": [
    "## Energy per layer"
   ]
  },
  {
   "cell_type": "markdown",
   "metadata": {},
   "source": [
    "### Add relative energies and latencies"
   ]
  },
  {
   "cell_type": "markdown",
   "metadata": {},
   "source": [
    "Relative latency time per layer"
   ]
  },
  {
   "cell_type": "code",
   "execution_count": 38,
   "metadata": {},
   "outputs": [],
   "source": [
    "filename = 'results_energy/A_Aggregated_energy_inference_layer_table.pkl'\n",
    "df = pd.read_pickle(filename)\n",
    "\n",
    "measurements = df.time.unique()\n",
    "for measurement in measurements:\n",
    "    filter = (df.time == measurement)\n",
    "    df.loc[filter, 'layer_latency_relativ'] = df.loc[filter]['layer_latency_mean'] / df.loc[filter]['layer_latency_mean'].sum()\n",
    "\n",
    "df.to_pickle(filename)"
   ]
  },
  {
   "cell_type": "markdown",
   "metadata": {},
   "source": [
    "Relative energy per layer"
   ]
  },
  {
   "cell_type": "code",
   "execution_count": 46,
   "metadata": {},
   "outputs": [],
   "source": [
    "filename = 'results_energy/A_Aggregated_energy_inference_layer_table.pkl'\n",
    "df = pd.read_pickle(filename)\n",
    "\n",
    "measurements = df.time.unique()\n",
    "for measurement in measurements:\n",
    "    filter = (df.time == measurement)\n",
    "    df.loc[filter, 'layer_energy_relativ'] = df.loc[filter]['layer_energy_mean'] / df.loc[filter]['layer_energy_mean'].sum()\n",
    "\n",
    "df.to_pickle(filename)"
   ]
  },
  {
   "cell_type": "code",
   "execution_count": null,
   "metadata": {},
   "outputs": [],
   "source": []
  }
 ],
 "metadata": {
  "kernelspec": {
   "display_name": "Python 3",
   "language": "python",
   "name": "python3"
  },
  "language_info": {
   "codemirror_mode": {
    "name": "ipython",
    "version": 3
   },
   "file_extension": ".py",
   "mimetype": "text/x-python",
   "name": "python",
   "nbconvert_exporter": "python",
   "pygments_lexer": "ipython3",
   "version": "3.8.5"
  }
 },
 "nbformat": 4,
 "nbformat_minor": 4
}
