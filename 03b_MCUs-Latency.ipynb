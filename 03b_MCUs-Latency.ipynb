{
 "cells": [
  {
   "cell_type": "markdown",
   "metadata": {},
   "source": [
    "# 03b MCU Latency\n"
   ]
  },
  {
   "cell_type": "code",
   "execution_count": 1,
   "metadata": {},
   "outputs": [
    {
     "name": "stdout",
     "output_type": "stream",
     "text": [
      "Numpy Version:\t\t 1.19.0\n",
      "Pandas Version:\t\t 1.0.5\n",
      "Matplotlib Version:\t 3.2.2\n"
     ]
    }
   ],
   "source": [
    "%run '00_Imports-and-settings.ipynb'"
   ]
  },
  {
   "cell_type": "code",
   "execution_count": 2,
   "metadata": {},
   "outputs": [],
   "source": [
    "# helper function to get model name\n",
    "def get_model_name(model_string):\n",
    "    if 'ResNet' in model_string:\n",
    "        model_name = 'ResNet20_CIFAR-10'\n",
    "    elif 'LeNet' in model_string:\n",
    "        model_name = 'LeNet-MNIST'\n",
    "    else:\n",
    "        model_name = 'unknown'\n",
    "        print('unknown model name')\n",
    "    return model_name"
   ]
  },
  {
   "cell_type": "markdown",
   "metadata": {},
   "source": [
    "### Load the data"
   ]
  },
  {
   "cell_type": "code",
   "execution_count": 3,
   "metadata": {},
   "outputs": [],
   "source": [
    "model = 'LeNet-MNIST'\n",
    "l4_df = pd.read_pickle('results/L4/NUCLEO_L496ZG_LeNet-MNIST_benchmarking+verification_results_2020-07-24.pkl').sort_values(by=['model_type'])\n",
    "f4_df = pd.read_pickle('results/F4/DISCO_F469NI_LeNet-MNIST_benchmarking+verification_results_2020-07-18.pkl').sort_values(by=['model_type'])\n",
    "f7_df = pd.read_pickle('results/F7/NUCLEO_F767ZI_LeNet-MNIST_benchmarking+verification_results_2020-07-22.pkl').sort_values(by=['model_type'])\n",
    "\n",
    "lenet_df = l4_df.append(f4_df)\n",
    "lenet_df = lenet_df.append(f7_df)\n",
    "\n",
    "model = '01d_ResNet20_CIFAR-10'\n",
    "l4_df = pd.read_pickle('results/L4/NUCLEO_L496ZG_01d_ResNet20_CIFAR-10_benchmarking_results_2020-07-20.pkl').sort_values(by=['model_type'])\n",
    "f4_df = pd.read_pickle('results/F4/DISCO_F469NI_01d_ResNet20_CIFAR-10_benchmarking_results_2020-07-19.pkl').sort_values(by=['model_type'])\n",
    "f7_df = pd.read_pickle('results/F7/NUCLEO_F767ZI_01d_ResNet20_CIFAR-10_benchmarking_results_2020-07-22.pkl').sort_values(by=['model_type'])\n",
    "\n",
    "resnet_df = l4_df.append(f4_df)\n",
    "resnet_df = resnet_df.append(f7_df)"
   ]
  },
  {
   "cell_type": "markdown",
   "metadata": {},
   "source": [
    "Replace '_' with '-' as tikzplotlib does not convert them to correct LaTeX code."
   ]
  },
  {
   "cell_type": "code",
   "execution_count": 4,
   "metadata": {},
   "outputs": [],
   "source": [
    "lenet_df['model_type'] = lenet_df['model_type'].str.replace('_','-')\n",
    "resnet_df['model_type'] = resnet_df['model_type'].str.replace('_','-')\n",
    "\n",
    "lenet_df['MCU'] = lenet_df['MCU'].str.replace('_','-')\n",
    "resnet_df['MCU'] = resnet_df['MCU'].str.replace('_','-')"
   ]
  },
  {
   "cell_type": "code",
   "execution_count": 5,
   "metadata": {},
   "outputs": [
    {
     "data": {
      "text/plain": [
       "11           0.00\n",
       "17           0.00\n",
       "16           0.00\n",
       "22           0.00\n",
       "10           0.00\n",
       "23           0.00\n",
       "4            0.00\n",
       "5            0.00\n",
       "14    25996287.54\n",
       "21    55190048.88\n",
       "8     37477172.26\n",
       "9     37477033.18\n",
       "3     12036431.88\n",
       "20    55608173.42\n",
       "15    25995365.02\n",
       "2     12036423.38\n",
       "19     2844980.80\n",
       "18    26584332.72\n",
       "6     12090503.92\n",
       "13     2839520.76\n",
       "12    26580787.34\n",
       "7      2223333.86\n",
       "1      2217008.96\n",
       "0     12088462.60\n",
       "Name: tflu_mcu_benchmark_mean_50, dtype: float64"
      ]
     },
     "execution_count": 5,
     "metadata": {},
     "output_type": "execute_result"
    }
   ],
   "source": [
    "resnet_df[resnet_df['MCU'] == 'NUCLEO-L496ZG']['tflu_mcu_benchmark_mean_50'].fillna(0)"
   ]
  },
  {
   "cell_type": "markdown",
   "metadata": {},
   "source": [
    "Available columns"
   ]
  },
  {
   "cell_type": "code",
   "execution_count": 6,
   "metadata": {},
   "outputs": [
    {
     "data": {
      "text/plain": [
       "Index(['time', 'MCU', 'model', 'mbed-dir', 'cmsis-nn', 'arena_size',\n",
       "       'compiler_optimization', 'FPU_status', 'MACs', 'pruned', 'weights',\n",
       "       'activations', 'model_type', 'model_size', 'model_size_reduction',\n",
       "       'model_size_gzip', 'model_size_reduction_gzip', 'binary_size',\n",
       "       'input_details_dtype', 'input_details_shape', 'output_details_dtype',\n",
       "       'output_details_shape', 'tfl_interpreter_accuracy',\n",
       "       'tfl_interpreter_loss_crossentropy', 'tfl_interpreter_loss_meansquared',\n",
       "       'inferences_per_cycle', 'tflu_mcu_benchmark_single',\n",
       "       'tflu_mcu_benchmark_mean', 'tflu_mcu_benchmark_std',\n",
       "       'tflu_mcu_accuracy', 'tflu_mcu_loss_crossentropy',\n",
       "       'tflu_mcu_loss_meansquared', 'tflu_mcu_accuracy_50',\n",
       "       'tflu_mcu_benchmark_mean_50', 'tflu_mcu_benchmark_std_50', 'error'],\n",
       "      dtype='object')"
      ]
     },
     "execution_count": 6,
     "metadata": {},
     "output_type": "execute_result"
    }
   ],
   "source": [
    "resnet_df.columns"
   ]
  },
  {
   "cell_type": "markdown",
   "metadata": {},
   "source": [
    "# Comparing MCUs for LeNet"
   ]
  },
  {
   "cell_type": "markdown",
   "metadata": {},
   "source": [
    "### Fastest model (int8, cmsis-nn, Ofast, FPU)"
   ]
  },
  {
   "cell_type": "code",
   "execution_count": 7,
   "metadata": {},
   "outputs": [
    {
     "data": {
      "application/vnd.jupyter.widget-view+json": {
       "model_id": "ec9f803fdc064271b82ef9ac38c19d5e",
       "version_major": 2,
       "version_minor": 0
      },
      "text/plain": [
       "Canvas(toolbar=Toolbar(toolitems=[('Home', 'Reset original view', 'home', 'home'), ('Back', 'Back to previous …"
      ]
     },
     "metadata": {},
     "output_type": "display_data"
    },
    {
     "data": {
      "text/html": [
       "<div>\n",
       "<style scoped>\n",
       "    .dataframe tbody tr th:only-of-type {\n",
       "        vertical-align: middle;\n",
       "    }\n",
       "\n",
       "    .dataframe tbody tr th {\n",
       "        vertical-align: top;\n",
       "    }\n",
       "\n",
       "    .dataframe thead th {\n",
       "        text-align: right;\n",
       "    }\n",
       "</style>\n",
       "<table border=\"1\" class=\"dataframe\">\n",
       "  <thead>\n",
       "    <tr style=\"text-align: right;\">\n",
       "      <th></th>\n",
       "      <th>model_type</th>\n",
       "      <th>tflu_mcu_benchmark_mean</th>\n",
       "    </tr>\n",
       "  </thead>\n",
       "  <tbody>\n",
       "    <tr>\n",
       "      <th>13</th>\n",
       "      <td>W-float32-A-float32</td>\n",
       "      <td>59.5089206</td>\n",
       "    </tr>\n",
       "    <tr>\n",
       "      <th>1</th>\n",
       "      <td>W-float32-A-float32</td>\n",
       "      <td>19.9671834</td>\n",
       "    </tr>\n",
       "    <tr>\n",
       "      <th>1</th>\n",
       "      <td>W-float32-A-float32</td>\n",
       "      <td>113.1516721</td>\n",
       "    </tr>\n",
       "    <tr>\n",
       "      <th>15</th>\n",
       "      <td>W-int8-A-int8</td>\n",
       "      <td>16.1060121</td>\n",
       "    </tr>\n",
       "    <tr>\n",
       "      <th>3</th>\n",
       "      <td>W-int8-A-int8</td>\n",
       "      <td>8.0455337</td>\n",
       "    </tr>\n",
       "    <tr>\n",
       "      <th>3</th>\n",
       "      <td>W-int8-A-int8</td>\n",
       "      <td>36.3913420</td>\n",
       "    </tr>\n",
       "  </tbody>\n",
       "</table>\n",
       "</div>"
      ],
      "text/plain": [
       "             model_type  tflu_mcu_benchmark_mean\n",
       "13  W-float32-A-float32               59.5089206\n",
       "1   W-float32-A-float32               19.9671834\n",
       "1   W-float32-A-float32              113.1516721\n",
       "15        W-int8-A-int8               16.1060121\n",
       "3         W-int8-A-int8                8.0455337\n",
       "3         W-int8-A-int8               36.3913420"
      ]
     },
     "metadata": {},
     "output_type": "display_data"
    },
    {
     "name": "stdout",
     "output_type": "stream",
     "text": [
      "figures/latency/perModel/LeNet-MNIST_hue-MCU__-Ofast_cmsis-nn_1_\n"
     ]
    },
    {
     "data": {
      "application/vnd.jupyter.widget-view+json": {
       "model_id": "cba41860b9244ca1b39c42f5549b6fdf",
       "version_major": 2,
       "version_minor": 0
      },
      "text/plain": [
       "Canvas(toolbar=Toolbar(toolitems=[('Home', 'Reset original view', 'home', 'home'), ('Back', 'Back to previous …"
      ]
     },
     "metadata": {},
     "output_type": "display_data"
    },
    {
     "data": {
      "text/html": [
       "<div>\n",
       "<style scoped>\n",
       "    .dataframe tbody tr th:only-of-type {\n",
       "        vertical-align: middle;\n",
       "    }\n",
       "\n",
       "    .dataframe tbody tr th {\n",
       "        vertical-align: top;\n",
       "    }\n",
       "\n",
       "    .dataframe thead th {\n",
       "        text-align: right;\n",
       "    }\n",
       "</style>\n",
       "<table border=\"1\" class=\"dataframe\">\n",
       "  <thead>\n",
       "    <tr style=\"text-align: right;\">\n",
       "      <th></th>\n",
       "      <th>model_type</th>\n",
       "      <th>tflu_mcu_benchmark_mean_50</th>\n",
       "    </tr>\n",
       "  </thead>\n",
       "  <tbody>\n",
       "    <tr>\n",
       "      <th>5</th>\n",
       "      <td>W-float32-A-float32</td>\n",
       "      <td>6151.93348</td>\n",
       "    </tr>\n",
       "    <tr>\n",
       "      <th>3</th>\n",
       "      <td>W-float32-A-float32</td>\n",
       "      <td>1613.39756</td>\n",
       "    </tr>\n",
       "    <tr>\n",
       "      <th>5</th>\n",
       "      <td>W-float32-A-float32</td>\n",
       "      <td>NaN</td>\n",
       "    </tr>\n",
       "    <tr>\n",
       "      <th>1</th>\n",
       "      <td>W-int8-A-int8</td>\n",
       "      <td>984.31760</td>\n",
       "    </tr>\n",
       "    <tr>\n",
       "      <th>1</th>\n",
       "      <td>W-int8-A-int8</td>\n",
       "      <td>449.30214</td>\n",
       "    </tr>\n",
       "    <tr>\n",
       "      <th>1</th>\n",
       "      <td>W-int8-A-int8</td>\n",
       "      <td>2217.00896</td>\n",
       "    </tr>\n",
       "  </tbody>\n",
       "</table>\n",
       "</div>"
      ],
      "text/plain": [
       "            model_type  tflu_mcu_benchmark_mean_50\n",
       "5  W-float32-A-float32                  6151.93348\n",
       "3  W-float32-A-float32                  1613.39756\n",
       "5  W-float32-A-float32                         NaN\n",
       "1        W-int8-A-int8                   984.31760\n",
       "1        W-int8-A-int8                   449.30214\n",
       "1        W-int8-A-int8                  2217.00896"
      ]
     },
     "metadata": {},
     "output_type": "display_data"
    },
    {
     "name": "stdout",
     "output_type": "stream",
     "text": [
      "figures/latency/perModel/ResNet20_CIFAR-10_hue-MCU__-Ofast_cmsis-nn_1_\n"
     ]
    }
   ],
   "source": [
    "hue = 'MCU'\n",
    "\n",
    "filter_dict = {\n",
    "    'compiler_optimization': '-Ofast',\n",
    "    'cmsis-nn': 'cmsis-nn',\n",
    "    'FPU_status': 1\n",
    "}\n",
    "\n",
    "for df in [lenet_df, resnet_df]:\n",
    "        model_name = get_model_name(df['model'].unique()[0])\n",
    "\n",
    "\n",
    "        filter = (df['weights'] == df['activations'])\n",
    "\n",
    "        filter_descr = ''\n",
    "        for key in filter_dict:\n",
    "            filter = filter & (df[key] == filter_dict[key])\n",
    "            filter_descr += (str(filter_dict[key]) + '_')\n",
    "\n",
    "\n",
    "\n",
    "        df_filtered = df.loc[filter]\n",
    "        \n",
    "\n",
    "\n",
    "        # let's sort the filtered df so that the order in the plots match\n",
    "        df_filtered = df_filtered.sort_values(by=['model_type', 'MCU'])\n",
    "\n",
    "        try:\n",
    "            df_filtered.loc[:,('tflu_mcu_benchmark_mean_50')] /= 1000\n",
    "            fig = sns.catplot(y='model_type', x='tflu_mcu_benchmark_mean_50', kind='bar', hue=hue, data=df_filtered, height=4, aspect=16/9, hue_order=[\"NUCLEO-L496ZG\", \"DISCO-F469NI\", \"NUCLEO-F767ZI\"])\n",
    "            display(df_filtered[['model_type', 'tflu_mcu_benchmark_mean_50']].drop_duplicates())\n",
    "\n",
    "        except KeyError:\n",
    "            df_filtered.loc[:,('tflu_mcu_benchmark_mean')] /= 1000\n",
    "            fig = sns.catplot(y='model_type', x='tflu_mcu_benchmark_mean', kind='bar', hue=hue, data=df_filtered, height=4, aspect=16/9, hue_order=[\"NUCLEO-L496ZG\", \"DISCO-F469NI\", \"NUCLEO-F767ZI\"])\n",
    "            display(df_filtered[['model_type','tflu_mcu_benchmark_mean']].drop_duplicates())\n",
    "\n",
    "\n",
    "        #plt.title(model_name  + json.dumps(filter_dict, indent=4)[1:-1])\n",
    "\n",
    "        plt.xlabel(\"Inference Latency [ms]\")\n",
    "        plt.ylabel(\"Model Type\")\n",
    "        fig.set_yticklabels(['\\\\texttt{float32}', '\\\\texttt{int8}'])\n",
    "\n",
    "        #plt.legend()\n",
    "        fig._legend.texts[0].set_text(\"L4\")\n",
    "        fig._legend.texts[1].set_text(\"F4\")\n",
    "        fig._legend.texts[2].set_text(\"F7\")\n",
    "\n",
    "\n",
    "        filename = f'figures/latency/perModel/{model_name}_hue-{hue}__{filter_descr}'\n",
    "\n",
    "        print(filename)\n",
    "\n",
    "        plt.tight_layout()\n",
    "        plt.show()\n",
    "        plt.savefig(filename + '.pdf')\n",
    "        tikzplotlib.save(filename + '.tex', axis_width=AXIS_WIDTH, axis_height=AXIS_HEIGHT)"
   ]
  },
  {
   "cell_type": "markdown",
   "metadata": {},
   "source": [
    "## int8 acceleration per MCU"
   ]
  },
  {
   "cell_type": "code",
   "execution_count": 8,
   "metadata": {},
   "outputs": [
    {
     "data": {
      "application/vnd.jupyter.widget-view+json": {
       "model_id": "dcc74dcc628f4f90b1584bac47b9a051",
       "version_major": 2,
       "version_minor": 0
      },
      "text/plain": [
       "Canvas(toolbar=Toolbar(toolitems=[('Home', 'Reset original view', 'home', 'home'), ('Back', 'Back to previous …"
      ]
     },
     "metadata": {},
     "output_type": "display_data"
    },
    {
     "data": {
      "text/html": [
       "<div>\n",
       "<style scoped>\n",
       "    .dataframe tbody tr th:only-of-type {\n",
       "        vertical-align: middle;\n",
       "    }\n",
       "\n",
       "    .dataframe tbody tr th {\n",
       "        vertical-align: top;\n",
       "    }\n",
       "\n",
       "    .dataframe thead th {\n",
       "        text-align: right;\n",
       "    }\n",
       "</style>\n",
       "<table border=\"1\" class=\"dataframe\">\n",
       "  <thead>\n",
       "    <tr style=\"text-align: right;\">\n",
       "      <th></th>\n",
       "      <th>MCU</th>\n",
       "      <th>tflu_mcu_benchmark_mean</th>\n",
       "    </tr>\n",
       "  </thead>\n",
       "  <tbody>\n",
       "    <tr>\n",
       "      <th>1</th>\n",
       "      <td>NUCLEO-L496ZG</td>\n",
       "      <td>113.1516721</td>\n",
       "    </tr>\n",
       "    <tr>\n",
       "      <th>13</th>\n",
       "      <td>DISCO-F469NI</td>\n",
       "      <td>59.5089206</td>\n",
       "    </tr>\n",
       "    <tr>\n",
       "      <th>1</th>\n",
       "      <td>NUCLEO-F767ZI</td>\n",
       "      <td>19.9671834</td>\n",
       "    </tr>\n",
       "    <tr>\n",
       "      <th>3</th>\n",
       "      <td>NUCLEO-L496ZG</td>\n",
       "      <td>36.3913420</td>\n",
       "    </tr>\n",
       "    <tr>\n",
       "      <th>15</th>\n",
       "      <td>DISCO-F469NI</td>\n",
       "      <td>16.1060121</td>\n",
       "    </tr>\n",
       "    <tr>\n",
       "      <th>3</th>\n",
       "      <td>NUCLEO-F767ZI</td>\n",
       "      <td>8.0455337</td>\n",
       "    </tr>\n",
       "  </tbody>\n",
       "</table>\n",
       "</div>"
      ],
      "text/plain": [
       "              MCU  tflu_mcu_benchmark_mean\n",
       "1   NUCLEO-L496ZG              113.1516721\n",
       "13   DISCO-F469NI               59.5089206\n",
       "1   NUCLEO-F767ZI               19.9671834\n",
       "3   NUCLEO-L496ZG               36.3913420\n",
       "15   DISCO-F469NI               16.1060121\n",
       "3   NUCLEO-F767ZI                8.0455337"
      ]
     },
     "metadata": {},
     "output_type": "display_data"
    },
    {
     "name": "stdout",
     "output_type": "stream",
     "text": [
      "figures/latency/perModel/LeNet-MNIST_hue-model_type__-Ofast_cmsis-nn_1_\n"
     ]
    },
    {
     "data": {
      "application/vnd.jupyter.widget-view+json": {
       "model_id": "cf63b1cbe99948ceb404ce647e24abaa",
       "version_major": 2,
       "version_minor": 0
      },
      "text/plain": [
       "Canvas(toolbar=Toolbar(toolitems=[('Home', 'Reset original view', 'home', 'home'), ('Back', 'Back to previous …"
      ]
     },
     "metadata": {},
     "output_type": "display_data"
    },
    {
     "data": {
      "text/html": [
       "<div>\n",
       "<style scoped>\n",
       "    .dataframe tbody tr th:only-of-type {\n",
       "        vertical-align: middle;\n",
       "    }\n",
       "\n",
       "    .dataframe tbody tr th {\n",
       "        vertical-align: top;\n",
       "    }\n",
       "\n",
       "    .dataframe thead th {\n",
       "        text-align: right;\n",
       "    }\n",
       "</style>\n",
       "<table border=\"1\" class=\"dataframe\">\n",
       "  <thead>\n",
       "    <tr style=\"text-align: right;\">\n",
       "      <th></th>\n",
       "      <th>MCU</th>\n",
       "      <th>tflu_mcu_benchmark_mean_50</th>\n",
       "    </tr>\n",
       "  </thead>\n",
       "  <tbody>\n",
       "    <tr>\n",
       "      <th>5</th>\n",
       "      <td>NUCLEO-L496ZG</td>\n",
       "      <td>NaN</td>\n",
       "    </tr>\n",
       "    <tr>\n",
       "      <th>5</th>\n",
       "      <td>DISCO-F469NI</td>\n",
       "      <td>6151.93348</td>\n",
       "    </tr>\n",
       "    <tr>\n",
       "      <th>3</th>\n",
       "      <td>NUCLEO-F767ZI</td>\n",
       "      <td>1613.39756</td>\n",
       "    </tr>\n",
       "    <tr>\n",
       "      <th>1</th>\n",
       "      <td>NUCLEO-L496ZG</td>\n",
       "      <td>2217.00896</td>\n",
       "    </tr>\n",
       "    <tr>\n",
       "      <th>1</th>\n",
       "      <td>DISCO-F469NI</td>\n",
       "      <td>984.31760</td>\n",
       "    </tr>\n",
       "    <tr>\n",
       "      <th>1</th>\n",
       "      <td>NUCLEO-F767ZI</td>\n",
       "      <td>449.30214</td>\n",
       "    </tr>\n",
       "  </tbody>\n",
       "</table>\n",
       "</div>"
      ],
      "text/plain": [
       "             MCU  tflu_mcu_benchmark_mean_50\n",
       "5  NUCLEO-L496ZG                         NaN\n",
       "5   DISCO-F469NI                  6151.93348\n",
       "3  NUCLEO-F767ZI                  1613.39756\n",
       "1  NUCLEO-L496ZG                  2217.00896\n",
       "1   DISCO-F469NI                   984.31760\n",
       "1  NUCLEO-F767ZI                   449.30214"
      ]
     },
     "metadata": {},
     "output_type": "display_data"
    },
    {
     "name": "stdout",
     "output_type": "stream",
     "text": [
      "figures/latency/perModel/ResNet20_CIFAR-10_hue-model_type__-Ofast_cmsis-nn_1_\n"
     ]
    }
   ],
   "source": [
    "hue = 'model_type'\n",
    "\n",
    "filter_dict = {\n",
    "    'compiler_optimization': '-Ofast',\n",
    "    'cmsis-nn': 'cmsis-nn',\n",
    "    'FPU_status': 1\n",
    "}\n",
    "\n",
    "for df in [lenet_df, resnet_df]:\n",
    "        model_name = get_model_name(df['model'].unique()[0])\n",
    "\n",
    "\n",
    "        filter = (df['weights'] == df['activations'])\n",
    "\n",
    "        filter_descr = ''\n",
    "        for key in filter_dict:\n",
    "            filter = filter & (df[key] == filter_dict[key])\n",
    "            filter_descr += (str(filter_dict[key]) + '_')\n",
    "\n",
    "\n",
    "\n",
    "        df_filtered = df.loc[filter]\n",
    "\n",
    "        # let's sort the filtered df so that the order in the plots match\n",
    "        df_filtered = df_filtered.sort_values(by=['model_type','cmsis-nn'])\n",
    "\n",
    "        try:\n",
    "            df_filtered.loc[:,('tflu_mcu_benchmark_mean_50')] /= 1000\n",
    "            fig = sns.catplot(y='MCU', x='tflu_mcu_benchmark_mean_50', kind='bar', hue=hue, data=df_filtered, height=4, aspect=16/9, order=[\"NUCLEO-L496ZG\", \"DISCO-F469NI\", \"NUCLEO-F767ZI\"])\n",
    "            display(df_filtered[['MCU', 'tflu_mcu_benchmark_mean_50']].drop_duplicates())\n",
    "\n",
    "        except KeyError:\n",
    "            df_filtered.loc[:,('tflu_mcu_benchmark_mean')] /= 1000\n",
    "            fig = sns.catplot(y='MCU', x='tflu_mcu_benchmark_mean', kind='bar', hue=hue, data=df_filtered, height=4, aspect=16/9, order=[\"NUCLEO-L496ZG\", \"DISCO-F469NI\", \"NUCLEO-F767ZI\"])\n",
    "            display(df_filtered[['MCU','tflu_mcu_benchmark_mean']].drop_duplicates())\n",
    "\n",
    "\n",
    "        plt.title(model_name  + json.dumps(filter_dict, indent=4)[1:-1])\n",
    "\n",
    "        plt.xlabel(\"Inference latency [ms]\")\n",
    "        plt.ylabel(\"Model type\")\n",
    "\n",
    "        fig.set_yticklabels(['L4', 'F4', 'F7'])\n",
    "\n",
    "        fig._legend.texts[0].set_text(\"\\\\texttt{float32}\")\n",
    "        fig._legend.texts[1].set_text(\"\\\\texttt{int8}\")\n",
    "        \n",
    "        filename = f'figures/latency/perModel/{model_name}_hue-{hue}__{filter_descr}'\n",
    "\n",
    "        print(filename)\n",
    "\n",
    "        plt.tight_layout()\n",
    "        plt.show()\n",
    "        plt.savefig(filename + '.pdf')\n",
    "        tikzplotlib.save(filename + '.tex', axis_width=AXIS_WIDTH, axis_height=AXIS_HEIGHT)"
   ]
  },
  {
   "cell_type": "markdown",
   "metadata": {},
   "source": [
    "## cmsis-nn acceleration per MCU"
   ]
  },
  {
   "cell_type": "code",
   "execution_count": 9,
   "metadata": {},
   "outputs": [
    {
     "data": {
      "application/vnd.jupyter.widget-view+json": {
       "model_id": "129aea22b9024905946e3173661d84d6",
       "version_major": 2,
       "version_minor": 0
      },
      "text/plain": [
       "Canvas(toolbar=Toolbar(toolitems=[('Home', 'Reset original view', 'home', 'home'), ('Back', 'Back to previous …"
      ]
     },
     "metadata": {},
     "output_type": "display_data"
    },
    {
     "data": {
      "text/html": [
       "<div>\n",
       "<style scoped>\n",
       "    .dataframe tbody tr th:only-of-type {\n",
       "        vertical-align: middle;\n",
       "    }\n",
       "\n",
       "    .dataframe tbody tr th {\n",
       "        vertical-align: top;\n",
       "    }\n",
       "\n",
       "    .dataframe thead th {\n",
       "        text-align: right;\n",
       "    }\n",
       "</style>\n",
       "<table border=\"1\" class=\"dataframe\">\n",
       "  <thead>\n",
       "    <tr style=\"text-align: right;\">\n",
       "      <th></th>\n",
       "      <th>MCU</th>\n",
       "      <th>tflu_mcu_benchmark_mean</th>\n",
       "    </tr>\n",
       "  </thead>\n",
       "  <tbody>\n",
       "    <tr>\n",
       "      <th>3</th>\n",
       "      <td>NUCLEO-L496ZG</td>\n",
       "      <td>36.3913420</td>\n",
       "    </tr>\n",
       "    <tr>\n",
       "      <th>15</th>\n",
       "      <td>DISCO-F469NI</td>\n",
       "      <td>16.1060121</td>\n",
       "    </tr>\n",
       "    <tr>\n",
       "      <th>3</th>\n",
       "      <td>NUCLEO-F767ZI</td>\n",
       "      <td>8.0455337</td>\n",
       "    </tr>\n",
       "    <tr>\n",
       "      <th>2</th>\n",
       "      <td>NUCLEO-L496ZG</td>\n",
       "      <td>120.6695127</td>\n",
       "    </tr>\n",
       "    <tr>\n",
       "      <th>14</th>\n",
       "      <td>DISCO-F469NI</td>\n",
       "      <td>65.5978391</td>\n",
       "    </tr>\n",
       "    <tr>\n",
       "      <th>2</th>\n",
       "      <td>NUCLEO-F767ZI</td>\n",
       "      <td>17.8879866</td>\n",
       "    </tr>\n",
       "  </tbody>\n",
       "</table>\n",
       "</div>"
      ],
      "text/plain": [
       "              MCU  tflu_mcu_benchmark_mean\n",
       "3   NUCLEO-L496ZG               36.3913420\n",
       "15   DISCO-F469NI               16.1060121\n",
       "3   NUCLEO-F767ZI                8.0455337\n",
       "2   NUCLEO-L496ZG              120.6695127\n",
       "14   DISCO-F469NI               65.5978391\n",
       "2   NUCLEO-F767ZI               17.8879866"
      ]
     },
     "metadata": {},
     "output_type": "display_data"
    },
    {
     "name": "stdout",
     "output_type": "stream",
     "text": [
      "figures/latency/perModel/LeNet-MNIST_hue-cmsis-nn__-Ofast_int8_1_\n"
     ]
    },
    {
     "data": {
      "application/vnd.jupyter.widget-view+json": {
       "model_id": "3fbdf65b541f44e3a2fcea38a5c04805",
       "version_major": 2,
       "version_minor": 0
      },
      "text/plain": [
       "Canvas(toolbar=Toolbar(toolitems=[('Home', 'Reset original view', 'home', 'home'), ('Back', 'Back to previous …"
      ]
     },
     "metadata": {},
     "output_type": "display_data"
    },
    {
     "data": {
      "text/html": [
       "<div>\n",
       "<style scoped>\n",
       "    .dataframe tbody tr th:only-of-type {\n",
       "        vertical-align: middle;\n",
       "    }\n",
       "\n",
       "    .dataframe tbody tr th {\n",
       "        vertical-align: top;\n",
       "    }\n",
       "\n",
       "    .dataframe thead th {\n",
       "        text-align: right;\n",
       "    }\n",
       "</style>\n",
       "<table border=\"1\" class=\"dataframe\">\n",
       "  <thead>\n",
       "    <tr style=\"text-align: right;\">\n",
       "      <th></th>\n",
       "      <th>MCU</th>\n",
       "      <th>tflu_mcu_benchmark_mean_50</th>\n",
       "    </tr>\n",
       "  </thead>\n",
       "  <tbody>\n",
       "    <tr>\n",
       "      <th>1</th>\n",
       "      <td>NUCLEO-L496ZG</td>\n",
       "      <td>2217.00896</td>\n",
       "    </tr>\n",
       "    <tr>\n",
       "      <th>1</th>\n",
       "      <td>DISCO-F469NI</td>\n",
       "      <td>984.31760</td>\n",
       "    </tr>\n",
       "    <tr>\n",
       "      <th>1</th>\n",
       "      <td>NUCLEO-F767ZI</td>\n",
       "      <td>449.30214</td>\n",
       "    </tr>\n",
       "    <tr>\n",
       "      <th>0</th>\n",
       "      <td>NUCLEO-L496ZG</td>\n",
       "      <td>12088.46260</td>\n",
       "    </tr>\n",
       "    <tr>\n",
       "      <th>0</th>\n",
       "      <td>DISCO-F469NI</td>\n",
       "      <td>6506.26076</td>\n",
       "    </tr>\n",
       "    <tr>\n",
       "      <th>0</th>\n",
       "      <td>NUCLEO-F767ZI</td>\n",
       "      <td>1119.74508</td>\n",
       "    </tr>\n",
       "  </tbody>\n",
       "</table>\n",
       "</div>"
      ],
      "text/plain": [
       "             MCU  tflu_mcu_benchmark_mean_50\n",
       "1  NUCLEO-L496ZG                  2217.00896\n",
       "1   DISCO-F469NI                   984.31760\n",
       "1  NUCLEO-F767ZI                   449.30214\n",
       "0  NUCLEO-L496ZG                 12088.46260\n",
       "0   DISCO-F469NI                  6506.26076\n",
       "0  NUCLEO-F767ZI                  1119.74508"
      ]
     },
     "metadata": {},
     "output_type": "display_data"
    },
    {
     "name": "stdout",
     "output_type": "stream",
     "text": [
      "figures/latency/perModel/ResNet20_CIFAR-10_hue-cmsis-nn__-Ofast_int8_1_\n"
     ]
    }
   ],
   "source": [
    "hue = 'cmsis-nn'\n",
    "\n",
    "filter_dict = {\n",
    "    'compiler_optimization': '-Ofast',\n",
    "    'weights': 'int8',\n",
    "    'FPU_status': 1\n",
    "}\n",
    "\n",
    "for df in [lenet_df, resnet_df]:\n",
    "        model_name = get_model_name(df['model'].unique()[0])\n",
    "\n",
    "\n",
    "        filter = (df['weights'] == df['activations'])\n",
    "\n",
    "        filter_descr = ''\n",
    "        for key in filter_dict:\n",
    "            filter = filter & (df[key] == filter_dict[key])\n",
    "            filter_descr += (str(filter_dict[key]) + '_')\n",
    "\n",
    "\n",
    "\n",
    "        df_filtered = df.loc[filter]\n",
    "\n",
    "        # let's sort the filtered df so that the order in the plots match\n",
    "        df_filtered = df_filtered.sort_values(by=['model_type','cmsis-nn'])\n",
    "\n",
    "        try:\n",
    "            df_filtered.loc[:,('tflu_mcu_benchmark_mean_50')] /= 1000\n",
    "            fig = sns.catplot(y='MCU', x='tflu_mcu_benchmark_mean_50', kind='bar', hue=hue, data=df_filtered, height=4, aspect=16/9)\n",
    "            display(df_filtered[['MCU', 'tflu_mcu_benchmark_mean_50']].drop_duplicates())\n",
    "\n",
    "        except KeyError:\n",
    "            df_filtered.loc[:,('tflu_mcu_benchmark_mean')] /= 1000\n",
    "            fig = sns.catplot(y='MCU', x='tflu_mcu_benchmark_mean', kind='bar', hue=hue, data=df_filtered, height=4, aspect=16/9)\n",
    "            display(df_filtered[['MCU','tflu_mcu_benchmark_mean']].drop_duplicates())\n",
    "\n",
    "\n",
    "#        plt.title(model_name  + json.dumps(filter_dict, indent=4)[1:-1])\n",
    "\n",
    "        plt.xlabel(\"Inference Latency [ms]\")\n",
    "        plt.ylabel(\"Model Type\")\n",
    "\n",
    "        fig.set_yticklabels(['L4', 'F4', 'F7'])\n",
    "\n",
    "        fig._legend.texts[0].set_text(\"\\\\texttt{cmsis-nn}\")\n",
    "        fig._legend.texts[1].set_text(\"\\\\textit{none}\")\n",
    "        \n",
    "        filename = f'figures/latency/perModel/{model_name}_hue-{hue}__{filter_descr}'\n",
    "\n",
    "        print(filename)\n",
    "\n",
    "        plt.tight_layout()\n",
    "        plt.show()\n",
    "        plt.savefig(filename + '.pdf')\n",
    "        tikzplotlib.save(filename + '.tex', axis_width=AXIS_WIDTH, axis_height=AXIS_HEIGHT)"
   ]
  },
  {
   "cell_type": "code",
   "execution_count": null,
   "metadata": {},
   "outputs": [],
   "source": []
  }
 ],
 "metadata": {
  "kernelspec": {
   "display_name": "Python 3",
   "language": "python",
   "name": "python3"
  },
  "language_info": {
   "codemirror_mode": {
    "name": "ipython",
    "version": 3
   },
   "file_extension": ".py",
   "mimetype": "text/x-python",
   "name": "python",
   "nbconvert_exporter": "python",
   "pygments_lexer": "ipython3",
   "version": "3.8.5"
  }
 },
 "nbformat": 4,
 "nbformat_minor": 4
}
