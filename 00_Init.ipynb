{
 "cells": [
  {
   "cell_type": "markdown",
   "metadata": {},
   "source": [
    "# 00_Init\n",
    "\n",
    "Please refer to the [README](README.md).\n",
    "This notebook contains the required libraries and some global settings.\n",
    "\n"
   ]
  },
  {
   "cell_type": "code",
   "execution_count": 1,
   "metadata": {},
   "outputs": [
    {
     "name": "stdout",
     "output_type": "stream",
     "text": [
      "Numpy Version:\t\t 1.19.0\n",
      "Pandas Version:\t\t 1.0.5\n",
      "Matplotlib Version:\t 3.2.2\n"
     ]
    }
   ],
   "source": [
    "import numpy as np\n",
    "import pandas as pd\n",
    "pd.set_option(\"display.precision\", 8)\n",
    "pd.options.mode.chained_assignment = None \n",
    "\n",
    "%matplotlib widget\n",
    "import matplotlib.pyplot as plt\n",
    "import matplotlib\n",
    "plt.rc_context(rc={'figure.max_open_warning': 100})\n",
    "\n",
    "import json\n",
    "import glob\n",
    "\n",
    "from scipy.stats import linregress\n",
    "import ipywidgets as widgets\n",
    "from ipywidgets import interact, interactive, fixed, interact_manual, Layout\n",
    "\n",
    "import seaborn as sns\n",
    "matplotlib.rcParams['pdf.fonttype'] = 42\n",
    "matplotlib.rcParams['ps.fonttype'] = 42\n",
    "sns.set(context='paper', style=\"ticks\", font='Times', color_codes=True, font_scale=1, \n",
    "        rc={\"axes.grid\": True,  \"axes.labelsize\": 10, \"font.size\": 10, \"legend.fontsize\": 8, \"xtick.labelsize\": 8,\"ytick.labelsize\": 8})\n",
    "sns.set_palette(\"muted\")\n",
    "\n",
    "columnwidth = 312"
   ]
  },
  {
   "cell_type": "code",
   "execution_count": 6,
   "metadata": {},
   "outputs": [],
   "source": [
    "# helper function to get model name\n",
    "def get_model_name(model_string):\n",
    "    if 'ResNet' in model_string:\n",
    "        model_name = 'ResNet20_CIFAR-10'\n",
    "    elif 'LeNet' in model_string:\n",
    "        model_name = 'LeNet-MNIST'\n",
    "    else:\n",
    "        model_name = 'unknown'\n",
    "        print('unknown model name')\n",
    "    return model_name"
   ]
  }
 ],
 "metadata": {
  "kernelspec": {
   "display_name": "Python 3",
   "language": "python",
   "name": "python3"
  },
  "language_info": {
   "codemirror_mode": {
    "name": "ipython",
    "version": 3
   },
   "file_extension": ".py",
   "mimetype": "text/x-python",
   "name": "python",
   "nbconvert_exporter": "python",
   "pygments_lexer": "ipython3",
   "version": "3.8.8"
  }
 },
 "nbformat": 4,
 "nbformat_minor": 4
}
