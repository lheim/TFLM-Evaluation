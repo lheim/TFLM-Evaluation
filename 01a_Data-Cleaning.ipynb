{
 "cells": [
  {
   "cell_type": "markdown",
   "metadata": {},
   "source": [
    "# Data Cleaning\n",
    "\n",
    "This notebook reads the individual evaluation results and merges them into single dataframes.\n",
    "Additionally, it creates Excel tables which can be used for manual exploration.\n",
    "\n",
    "The results are already in the folder `results` and `results_layers`.\n"
   ]
  },
  {
   "cell_type": "code",
   "execution_count": 8,
   "metadata": {},
   "outputs": [
    {
     "name": "stdout",
     "output_type": "stream",
     "text": [
      "Numpy Version:\t\t 1.19.0\n",
      "Pandas Version:\t\t 1.0.5\n",
      "Matplotlib Version:\t 3.2.2\n"
     ]
    }
   ],
   "source": [
    "import numpy as np\n",
    "import pandas as pd\n",
    "pd.options.mode.chained_assignment = None \n",
    "import matplotlib.pyplot as plt\n",
    "import matplotlib\n",
    "import ipywidgets as widgets\n",
    "from ipywidgets import interact, interactive, fixed, interact_manual, Layout\n",
    "import glob\n",
    "\n",
    "import seaborn as sns\n",
    "sns.set(style=\"ticks\", color_codes=True)\n",
    "\n",
    "print(\"Numpy Version:\\t\\t\", np.__version__)\n",
    "print(\"Pandas Version:\\t\\t\", pd.__version__)\n",
    "print(\"Matplotlib Version:\\t\", matplotlib.__version__)"
   ]
  },
  {
   "cell_type": "markdown",
   "metadata": {},
   "source": [
    "## Combined table for single model\n",
    "\n",
    "This table contains all the data collected for this model -- accross all the MCUs"
   ]
  },
  {
   "cell_type": "markdown",
   "metadata": {},
   "source": [
    "### Benchmark + Verification"
   ]
  },
  {
   "cell_type": "markdown",
   "metadata": {},
   "source": [
    "#### LeNet-MNIST"
   ]
  },
  {
   "cell_type": "code",
   "execution_count": 3,
   "metadata": {},
   "outputs": [],
   "source": [
    "l4_df = pd.read_pickle('results/L4/NUCLEO_L496ZG_LeNet-MNIST_benchmarking+verification_results_2020-07-24.pkl')\n",
    "f4_df = pd.read_pickle('results/F4/DISCO_F469NI_LeNet-MNIST_benchmarking+verification_results_2020-07-18.pkl')\n",
    "f7_df = pd.read_pickle('results/F7/NUCLEO_F767ZI_LeNet-MNIST_benchmarking+verification_results_2020-07-22.pkl')\n",
    "\n",
    "df = pd.concat([l4_df, f4_df, f7_df])"
   ]
  },
  {
   "cell_type": "markdown",
   "metadata": {},
   "source": [
    "Write to excel file which can be used for manual data acquisition"
   ]
  },
  {
   "cell_type": "code",
   "execution_count": 4,
   "metadata": {},
   "outputs": [],
   "source": [
    "df.to_pickle('results/LeNet-MNIST_benchmarking+verification_results.pkl')\n",
    "df.to_excel('results/LeNet-MNIST_benchmarking+verification_results.xlsx')"
   ]
  },
  {
   "cell_type": "markdown",
   "metadata": {},
   "source": [
    "#### ResNet20-CIFAR-10"
   ]
  },
  {
   "cell_type": "code",
   "execution_count": 6,
   "metadata": {},
   "outputs": [],
   "source": [
    "l4_df = pd.read_pickle('results/L4/NUCLEO_L496ZG_01d_ResNet20_CIFAR-10_benchmarking_results_2020-07-20.pkl')\n",
    "f4_df = pd.read_pickle('results/F4/DISCO_F469NI_01d_ResNet20_CIFAR-10_benchmarking_results_2020-07-19.pkl')\n",
    "f7_df = pd.read_pickle('results/F7/NUCLEO_F767ZI_01d_ResNet20_CIFAR-10_benchmarking_results_2020-07-22.pkl')\n",
    "\n",
    "df = pd.concat([l4_df, f4_df, f7_df])"
   ]
  },
  {
   "cell_type": "markdown",
   "metadata": {},
   "source": [
    "Write to excel file which can be used for manual data acquisition"
   ]
  },
  {
   "cell_type": "code",
   "execution_count": 7,
   "metadata": {},
   "outputs": [],
   "source": [
    "df.to_pickle('results/01d_ResNet20_CIFAR-10_benchmarking+verification_results.pkl')\n",
    "df.to_excel('results/01d_ResNet20_CIFAR-10_benchmarking+verification_results.xlsx')"
   ]
  },
  {
   "cell_type": "markdown",
   "metadata": {},
   "source": [
    "#### Both models"
   ]
  },
  {
   "cell_type": "code",
   "execution_count": 2,
   "metadata": {},
   "outputs": [],
   "source": [
    "l4_df = pd.read_pickle('results/L4/NUCLEO_L496ZG_LeNet-MNIST_benchmarking+verification_results_2020-07-24.pkl')\n",
    "f4_df = pd.read_pickle('results/F4/DISCO_F469NI_LeNet-MNIST_benchmarking+verification_results_2020-07-18.pkl')\n",
    "f7_df = pd.read_pickle('results/F7/NUCLEO_F767ZI_LeNet-MNIST_benchmarking+verification_results_2020-07-22.pkl')\n",
    "\n",
    "df = pd.concat([l4_df, f4_df, f7_df])\n",
    "\n",
    "l4_df = pd.read_pickle('results/L4/NUCLEO_L496ZG_01d_ResNet20_CIFAR-10_benchmarking_results_2020-07-20.pkl')\n",
    "f4_df = pd.read_pickle('results/F4/DISCO_F469NI_01d_ResNet20_CIFAR-10_benchmarking_results_2020-07-19.pkl')\n",
    "f7_df = pd.read_pickle('results/F7/NUCLEO_F767ZI_01d_ResNet20_CIFAR-10_benchmarking_results_2020-07-22.pkl')\n",
    "\n",
    "df = pd.concat([df, l4_df, f4_df, f7_df])"
   ]
  },
  {
   "cell_type": "markdown",
   "metadata": {},
   "source": [
    "Write to excel file which can be used for manual data acquisition"
   ]
  },
  {
   "cell_type": "code",
   "execution_count": 3,
   "metadata": {},
   "outputs": [],
   "source": [
    "df.to_pickle('results/A_aggregated_benchmarking+verification_results.pkl')\n",
    "df.to_excel('results/A_aggregated_benchmarking+verification_results.xlsx')"
   ]
  },
  {
   "cell_type": "markdown",
   "metadata": {},
   "source": [
    "### Layer Benchmark"
   ]
  },
  {
   "cell_type": "markdown",
   "metadata": {},
   "source": [
    "Write to excel file which can be used for manual data acquisition"
   ]
  },
  {
   "cell_type": "code",
   "execution_count": null,
   "metadata": {},
   "outputs": [],
   "source": []
  },
  {
   "cell_type": "markdown",
   "metadata": {},
   "source": [
    "## Combined table for all layer measurements across all MCUs and models\n",
    "\n",
    "This table contains all the layer measurements data -- accross all the models and MCUs."
   ]
  },
  {
   "cell_type": "code",
   "execution_count": 10,
   "metadata": {},
   "outputs": [],
   "source": [
    "l4_df = pd.read_pickle('results_layers/L4/NUCLEO_L496ZG_LeNet-MNIST_layer_results_2020-07-24.pkl')\n",
    "f4_df = pd.read_pickle('results_layers/F4/DISCO_F469NI_LeNet-MNIST_layer_results_2020-07-22.pkl')\n",
    "f7_df = pd.read_pickle('results_layers/F7/NUCLEO_F767ZI_LeNet-MNIST_layer_results_2020-07-23.pkl')\n",
    "\n",
    "df = pd.concat([l4_df, f4_df, f7_df])\n",
    "\n",
    "l4_df = pd.read_pickle('results_layers/L4/NUCLEO_L496ZG_01d_ResNet20_CIFAR-10_layer_results_2020-07-24.pkl')\n",
    "f4_df = pd.read_pickle('results_layers/F4/DISCO_F469NI_01d_ResNet20_CIFAR-10_layer_results_2020-07-22.pkl')\n",
    "f7_df = pd.read_pickle('results_layers/F7/NUCLEO_F767ZI_01d_ResNet20_CIFAR-10_layer_results_2020-07-22.pkl')\n",
    "\n",
    "df = pd.concat([df, l4_df, f4_df, f7_df])"
   ]
  },
  {
   "cell_type": "markdown",
   "metadata": {},
   "source": [
    "Write to excel file which can be used for manual data acquisition"
   ]
  },
  {
   "cell_type": "code",
   "execution_count": 11,
   "metadata": {},
   "outputs": [],
   "source": [
    "df.to_pickle('results_layers/A_aggregated_benchmarking-layers_results.pkl')\n",
    "df.to_excel('results_layers/A_aggregated_benchmarking-layers_results.xlsx')"
   ]
  },
  {
   "cell_type": "markdown",
   "metadata": {},
   "source": [
    "### Benchmark + Verification"
   ]
  },
  {
   "cell_type": "code",
   "execution_count": null,
   "metadata": {},
   "outputs": [],
   "source": []
  },
  {
   "cell_type": "markdown",
   "metadata": {},
   "source": [
    "Write to excel file which can be used for manual data acquisition"
   ]
  },
  {
   "cell_type": "code",
   "execution_count": null,
   "metadata": {},
   "outputs": [],
   "source": []
  },
  {
   "cell_type": "markdown",
   "metadata": {},
   "source": [
    "### Layer Benchmark"
   ]
  },
  {
   "cell_type": "markdown",
   "metadata": {},
   "source": [
    "Write to excel file which can be used for manual data acquisition"
   ]
  },
  {
   "cell_type": "code",
   "execution_count": null,
   "metadata": {},
   "outputs": [],
   "source": []
  },
  {
   "cell_type": "markdown",
   "metadata": {},
   "source": [
    "### Add relative latency time for each layer to dataframes"
   ]
  },
  {
   "cell_type": "code",
   "execution_count": 43,
   "metadata": {},
   "outputs": [],
   "source": [
    "df = pd.read_pickle('results_layers/L4/NUCLEO_L496ZG_LeNet-MNIST_layer_results_2020-07-24.pkl')\n",
    "mcu = 'L4'\n",
    "model = 'LeNet-MNIST'"
   ]
  },
  {
   "cell_type": "code",
   "execution_count": 28,
   "metadata": {},
   "outputs": [],
   "source": [
    "df = pd.read_pickle('results_layers/L4/NUCLEO_L496ZG_01d_ResNet20_CIFAR-10_layer_results_2020-07-24.pkl')\n",
    "mcu = 'L4'\n",
    "model = '01d_ResNet20_CIFAR-10'"
   ]
  },
  {
   "cell_type": "code",
   "execution_count": 49,
   "metadata": {},
   "outputs": [],
   "source": []
  },
  {
   "cell_type": "code",
   "execution_count": 9,
   "metadata": {},
   "outputs": [
    {
     "name": "stdout",
     "output_type": "stream",
     "text": [
      "['results_layers/F4/DISCO_F469NI_LeNet-MNIST_layer_results_2020-07-22.pkl', 'results_layers/F4/DISCO_F469NI_01d_ResNet20_CIFAR-10_layer_results_2020-07-22.pkl', 'results_layers/L4/NUCLEO_L496ZG_01d_ResNet20_CIFAR-10_layer_results_2020-07-24.pkl', 'results_layers/L4/NUCLEO_L496ZG_LeNet-MNIST_layer_results_2020-07-24.pkl', 'results_layers/F7/NUCLEO_F767ZI_LeNet-MNIST_layer_results_2020-07-23.pkl', 'results_layers/F7/NUCLEO_F767ZI_01d_ResNet20_CIFAR-10_layer_results_2020-07-22.pkl']\n"
     ]
    }
   ],
   "source": [
    "filenames = glob.glob('results_layers/*/*.pkl')\n",
    "print(filenames)\n",
    "for filename in filenames:\n",
    "    add_relative_latency(filename)"
   ]
  },
  {
   "cell_type": "code",
   "execution_count": 6,
   "metadata": {},
   "outputs": [],
   "source": [
    "def add_relative_latency(filename):\n",
    "    df = pd.read_pickle(filename)\n",
    "\n",
    "    measurements = df.time.unique()\n",
    "    for measurement in measurements:\n",
    "        filter = (df.time == measurement)\n",
    "        df.loc[filter, 'layer_latency_relativ'] = df.loc[filter]['layer_latency_mean'] / df.loc[filter]['layer_latency_mean'].sum()\n",
    "\n",
    "    df.to_pickle(filename)"
   ]
  }
 ],
 "metadata": {
  "kernelspec": {
   "display_name": "Python 3",
   "language": "python",
   "name": "python3"
  },
  "language_info": {
   "codemirror_mode": {
    "name": "ipython",
    "version": 3
   },
   "file_extension": ".py",
   "mimetype": "text/x-python",
   "name": "python",
   "nbconvert_exporter": "python",
   "pygments_lexer": "ipython3",
   "version": "3.8.5"
  }
 },
 "nbformat": 4,
 "nbformat_minor": 4
}
